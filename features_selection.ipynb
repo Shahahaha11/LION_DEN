{
 "cells": [
  {
   "cell_type": "markdown",
   "id": "46ade53835af6e06",
   "metadata": {},
   "source": [
    "# Features selection\n",
    "\n",
    "In this part, we will compute statistical test to decide which features will further use for model training. Various feature selection methods will be apply including Filter based method and Recursive Feature Elimination (RFE). <br>\\\n",
    "Later on, when doing model training, LASSO will be applied to enhance features choice and decrease the computational cost. "
   ]
  },
  {
   "cell_type": "markdown",
   "id": "f17a03cf24f2ee18",
   "metadata": {},
   "source": [
    "We learned from the correlation matrix that garageSpaces has perfect correlation with parkingSpaces so we will remove parkingSpaces and keep only garage variable"
   ]
  },
  {
   "cell_type": "code",
   "execution_count": 70,
   "id": "8c939df5299c199",
   "metadata": {
    "ExecuteTime": {
     "end_time": "2025-03-30T18:01:28.048755Z",
     "start_time": "2025-03-30T18:01:28.024836Z"
    }
   },
   "outputs": [],
   "source": [
    "df_map = df_map.drop(columns='parkingSpaces')"
   ]
  },
  {
   "cell_type": "code",
   "execution_count": 75,
   "id": "943d54c348d1db83",
   "metadata": {
    "ExecuteTime": {
     "end_time": "2025-03-30T18:02:54.643364Z",
     "start_time": "2025-03-30T18:02:54.542235Z"
    }
   },
   "outputs": [
    {
     "name": "stdout",
     "output_type": "stream",
     "text": [
      "Features with |correlation| >= 0.1:\n",
      "longitude                  -0.176157\n",
      "garageSpaces                0.163030\n",
      "parkingSpaces               0.162937\n",
      "numOfPhotos                 0.156259\n",
      "livingAreaSqFt              0.464788\n",
      "numOfPrimarySchools        -0.168356\n",
      "numOfElementarySchools      0.156716\n",
      "numOfHighSchools           -0.195339\n",
      "avgSchoolRating             0.291039\n",
      "MedianStudentsPerTeacher    0.207284\n",
      "numOfBathrooms              0.543477\n",
      "numOfBedrooms               0.341738\n",
      "numOfStories                0.212310\n",
      "Income                      0.268169\n",
      "population                 -0.213534\n",
      "Name: latestPrice, dtype: float64\n"
     ]
    }
   ],
   "source": [
    "# Calculate correlations of candidate features with the target \"latestPrice\"\n",
    "target_corr = corr_matrix['latestPrice'].drop('latestPrice')\n",
    "\n",
    "# Set a threshold of 0.2 (absolute correlation)\n",
    "threshold = 0.15\n",
    "selected_features = target_corr[abs(target_corr) >= threshold]\n",
    "\n",
    "print(\"Features with |correlation| >= 0.1:\")\n",
    "print(selected_features)"
   ]
  },
  {
   "cell_type": "markdown",
   "id": "e1ce1a67a103e3f5",
   "metadata": {},
   "source": [
    "For numerical variables, we will keep those that has moderate to high correlation with sale price, including longtitude, latitude, garageSpaces, numOfPhotos, living area square feet, number of school (primary, elementary, highschool), school rating, median students per teacher, number of bathrooms, number of bedrooms, number of stories, income, population and 2 macroeconomic variables median list price per square feet and mortagage rate"
   ]
  },
  {
   "cell_type": "code",
   "execution_count": 64,
   "id": "18ddf75bb558a0b3",
   "metadata": {
    "ExecuteTime": {
     "end_time": "2025-03-29T22:47:05.435738Z",
     "start_time": "2025-03-29T22:47:05.376699Z"
    }
   },
   "outputs": [
    {
     "name": "stdout",
     "output_type": "stream",
     "text": [
      "Column: hasAssociation | Chi2: 42.9912, p-value: 0.0000, dof: 1\n",
      "Column: hasCooling | Chi2: 14.5450, p-value: 0.0001, dof: 1\n",
      "Column: hasGarage | Chi2: 151.2900, p-value: 0.0000, dof: 1\n",
      "Column: hasHeating | Chi2: 9.9736, p-value: 0.0016, dof: 1\n",
      "Column: hasSpa | Chi2: 283.7785, p-value: 0.0000, dof: 1\n",
      "Column: hasView | Chi2: 234.5709, p-value: 0.0000, dof: 1\n"
     ]
    }
   ],
   "source": [
    "from scipy.stats import chi2_contingency\n",
    "\n",
    "# Create a binary target: \"High\" if latestPrice is greater than or equal to the median, otherwise \"Low\"\n",
    "median_price = df_map[\"latestPrice\"].median()\n",
    "df_map[\"price_category\"] = df_map[\"latestPrice\"].apply(lambda x: \"High\" if x >= median_price else \"Low\")\n",
    "\n",
    "bool_cols = df_map.select_dtypes(include=\"bool\").columns\n",
    "chi2_results = {}\n",
    "\n",
    "for col in bool_cols:\n",
    "    contingency_table = pd.crosstab(df_map[col], df_map[\"price_category\"])\n",
    "    chi2, p, dof, expected = chi2_contingency(contingency_table)\n",
    "    \n",
    "    chi2_results[col] = {\"chi2_stat\": chi2, \"p_value\": p, \"dof\": dof}\n",
    "\n",
    "for col, result in chi2_results.items():\n",
    "    print(f\"Column: {col} | Chi2: {result['chi2_stat']:.4f}, p-value: {result['p_value']:.4f}, dof: {result['dof']}\")\n"
   ]
  },
  {
   "cell_type": "markdown",
   "id": "b05f5a5c177faf6b",
   "metadata": {},
   "source": [
    "All the boolean features has a significant effect on categorize the price. So we will keep all of these variables."
   ]
  },
  {
   "cell_type": "code",
   "execution_count": 85,
   "id": "a147ac9e26ed1cc2",
   "metadata": {
    "ExecuteTime": {
     "end_time": "2025-03-30T18:34:15.534782Z",
     "start_time": "2025-03-30T18:34:15.493703Z"
    }
   },
   "outputs": [],
   "source": [
    "df_training = df_map[[\n",
    "    'longitude', 'latitude','garageSpaces','numOfPhotos', 'numOfElementarySchools', 'numOfHighSchools', 'numOfPrimarySchools',\n",
    "    'livingAreaSqFt','avgSchoolRating','MedianStudentsPerTeacher','numOfBathrooms','numOfBedrooms', 'numOfStories', 'Income',\n",
    "    'population','MORTGAGE30US', 'MEDLISPRIPERSQUFEE12420', 'hasAssociation', 'hasCooling', 'hasGarage', 'hasHeating', 'hasSpa', 'hasView', 'latestPrice', 'latest_saledate']]"
   ]
  },
  {
   "cell_type": "code",
   "execution_count": 86,
   "id": "826a1508f48423ac",
   "metadata": {
    "ExecuteTime": {
     "end_time": "2025-03-30T18:34:18.702503Z",
     "start_time": "2025-03-30T18:34:18.655282Z"
    }
   },
   "outputs": [
    {
     "data": {
      "text/html": [
       "<div>\n",
       "<style scoped>\n",
       "    .dataframe tbody tr th:only-of-type {\n",
       "        vertical-align: middle;\n",
       "    }\n",
       "\n",
       "    .dataframe tbody tr th {\n",
       "        vertical-align: top;\n",
       "    }\n",
       "\n",
       "    .dataframe thead th {\n",
       "        text-align: right;\n",
       "    }\n",
       "</style>\n",
       "<table border=\"1\" class=\"dataframe\">\n",
       "  <thead>\n",
       "    <tr style=\"text-align: right;\">\n",
       "      <th></th>\n",
       "      <th>longitude</th>\n",
       "      <th>latitude</th>\n",
       "      <th>garageSpaces</th>\n",
       "      <th>numOfPhotos</th>\n",
       "      <th>numOfElementarySchools</th>\n",
       "      <th>numOfHighSchools</th>\n",
       "      <th>numOfPrimarySchools</th>\n",
       "      <th>livingAreaSqFt</th>\n",
       "      <th>avgSchoolRating</th>\n",
       "      <th>MedianStudentsPerTeacher</th>\n",
       "      <th>...</th>\n",
       "      <th>MORTGAGE30US</th>\n",
       "      <th>MEDLISPRIPERSQUFEE12420</th>\n",
       "      <th>hasAssociation</th>\n",
       "      <th>hasCooling</th>\n",
       "      <th>hasGarage</th>\n",
       "      <th>hasHeating</th>\n",
       "      <th>hasSpa</th>\n",
       "      <th>hasView</th>\n",
       "      <th>latestPrice</th>\n",
       "      <th>latest_saledate</th>\n",
       "    </tr>\n",
       "  </thead>\n",
       "  <tbody>\n",
       "    <tr>\n",
       "      <th>0</th>\n",
       "      <td>-97.741470</td>\n",
       "      <td>30.197430</td>\n",
       "      <td>0</td>\n",
       "      <td>27</td>\n",
       "      <td>0</td>\n",
       "      <td>1</td>\n",
       "      <td>1</td>\n",
       "      <td>1592.0</td>\n",
       "      <td>3.000000</td>\n",
       "      <td>12</td>\n",
       "      <td>...</td>\n",
       "      <td>4.04</td>\n",
       "      <td>163</td>\n",
       "      <td>False</td>\n",
       "      <td>True</td>\n",
       "      <td>False</td>\n",
       "      <td>True</td>\n",
       "      <td>False</td>\n",
       "      <td>False</td>\n",
       "      <td>209900.0</td>\n",
       "      <td>2018-01-22</td>\n",
       "    </tr>\n",
       "    <tr>\n",
       "      <th>1</th>\n",
       "      <td>-97.782372</td>\n",
       "      <td>30.157705</td>\n",
       "      <td>2</td>\n",
       "      <td>1</td>\n",
       "      <td>0</td>\n",
       "      <td>1</td>\n",
       "      <td>1</td>\n",
       "      <td>2217.0</td>\n",
       "      <td>5.333333</td>\n",
       "      <td>14</td>\n",
       "      <td>...</td>\n",
       "      <td>4.04</td>\n",
       "      <td>163</td>\n",
       "      <td>True</td>\n",
       "      <td>True</td>\n",
       "      <td>True</td>\n",
       "      <td>True</td>\n",
       "      <td>False</td>\n",
       "      <td>False</td>\n",
       "      <td>260000.0</td>\n",
       "      <td>2018-01-22</td>\n",
       "    </tr>\n",
       "    <tr>\n",
       "      <th>2</th>\n",
       "      <td>-97.940430</td>\n",
       "      <td>30.163763</td>\n",
       "      <td>0</td>\n",
       "      <td>21</td>\n",
       "      <td>0</td>\n",
       "      <td>0</td>\n",
       "      <td>0</td>\n",
       "      <td>2582.0</td>\n",
       "      <td>8.000000</td>\n",
       "      <td>15</td>\n",
       "      <td>...</td>\n",
       "      <td>4.04</td>\n",
       "      <td>163</td>\n",
       "      <td>True</td>\n",
       "      <td>True</td>\n",
       "      <td>False</td>\n",
       "      <td>True</td>\n",
       "      <td>False</td>\n",
       "      <td>False</td>\n",
       "      <td>440000.0</td>\n",
       "      <td>2018-01-22</td>\n",
       "    </tr>\n",
       "    <tr>\n",
       "      <th>3</th>\n",
       "      <td>-97.802513</td>\n",
       "      <td>30.443314</td>\n",
       "      <td>0</td>\n",
       "      <td>1</td>\n",
       "      <td>1</td>\n",
       "      <td>1</td>\n",
       "      <td>0</td>\n",
       "      <td>2942.0</td>\n",
       "      <td>8.666667</td>\n",
       "      <td>16</td>\n",
       "      <td>...</td>\n",
       "      <td>4.04</td>\n",
       "      <td>163</td>\n",
       "      <td>True</td>\n",
       "      <td>True</td>\n",
       "      <td>False</td>\n",
       "      <td>True</td>\n",
       "      <td>False</td>\n",
       "      <td>False</td>\n",
       "      <td>679900.0</td>\n",
       "      <td>2018-01-22</td>\n",
       "    </tr>\n",
       "    <tr>\n",
       "      <th>4</th>\n",
       "      <td>-97.704697</td>\n",
       "      <td>30.265963</td>\n",
       "      <td>1</td>\n",
       "      <td>19</td>\n",
       "      <td>0</td>\n",
       "      <td>1</td>\n",
       "      <td>1</td>\n",
       "      <td>2297.0</td>\n",
       "      <td>5.333333</td>\n",
       "      <td>14</td>\n",
       "      <td>...</td>\n",
       "      <td>4.04</td>\n",
       "      <td>163</td>\n",
       "      <td>False</td>\n",
       "      <td>True</td>\n",
       "      <td>True</td>\n",
       "      <td>True</td>\n",
       "      <td>False</td>\n",
       "      <td>False</td>\n",
       "      <td>599990.0</td>\n",
       "      <td>2018-01-23</td>\n",
       "    </tr>\n",
       "  </tbody>\n",
       "</table>\n",
       "<p>5 rows × 25 columns</p>\n",
       "</div>"
      ],
      "text/plain": [
       "   longitude   latitude  garageSpaces  numOfPhotos  numOfElementarySchools  \\\n",
       "0 -97.741470  30.197430             0           27                       0   \n",
       "1 -97.782372  30.157705             2            1                       0   \n",
       "2 -97.940430  30.163763             0           21                       0   \n",
       "3 -97.802513  30.443314             0            1                       1   \n",
       "4 -97.704697  30.265963             1           19                       0   \n",
       "\n",
       "   numOfHighSchools  numOfPrimarySchools  livingAreaSqFt  avgSchoolRating  \\\n",
       "0                 1                    1          1592.0         3.000000   \n",
       "1                 1                    1          2217.0         5.333333   \n",
       "2                 0                    0          2582.0         8.000000   \n",
       "3                 1                    0          2942.0         8.666667   \n",
       "4                 1                    1          2297.0         5.333333   \n",
       "\n",
       "   MedianStudentsPerTeacher  ...  MORTGAGE30US  MEDLISPRIPERSQUFEE12420  \\\n",
       "0                        12  ...          4.04                      163   \n",
       "1                        14  ...          4.04                      163   \n",
       "2                        15  ...          4.04                      163   \n",
       "3                        16  ...          4.04                      163   \n",
       "4                        14  ...          4.04                      163   \n",
       "\n",
       "   hasAssociation  hasCooling  hasGarage  hasHeating  hasSpa  hasView  \\\n",
       "0           False        True      False        True   False    False   \n",
       "1            True        True       True        True   False    False   \n",
       "2            True        True      False        True   False    False   \n",
       "3            True        True      False        True   False    False   \n",
       "4           False        True       True        True   False    False   \n",
       "\n",
       "   latestPrice  latest_saledate  \n",
       "0     209900.0       2018-01-22  \n",
       "1     260000.0       2018-01-22  \n",
       "2     440000.0       2018-01-22  \n",
       "3     679900.0       2018-01-22  \n",
       "4     599990.0       2018-01-23  \n",
       "\n",
       "[5 rows x 25 columns]"
      ]
     },
     "execution_count": 86,
     "metadata": {},
     "output_type": "execute_result"
    }
   ],
   "source": [
    "df_training.head()"
   ]
  },
  {
   "cell_type": "code",
   "execution_count": 87,
   "id": "fac09963a58718b1",
   "metadata": {
    "ExecuteTime": {
     "end_time": "2025-03-30T18:34:23.230693Z",
     "start_time": "2025-03-30T18:34:23.206111Z"
    }
   },
   "outputs": [],
   "source": [
    "df_training.to_pickle('filtered_features1.pkl')"
   ]
  },
  {
   "cell_type": "markdown",
   "id": "e86221b1c9cc95a8",
   "metadata": {},
   "source": [
    "***Further enhance feature selection by using Recursive Feature Elimination with Random Forest Regressor as an estimator***"
   ]
  },
  {
   "cell_type": "code",
   "execution_count": 81,
   "id": "a3f4502000b8cfc4",
   "metadata": {
    "ExecuteTime": {
     "end_time": "2025-03-30T18:27:35.029813Z",
     "start_time": "2025-03-30T18:26:52.961472Z"
    }
   },
   "outputs": [
    {
     "name": "stdout",
     "output_type": "stream",
     "text": [
      "Selected Features by RFE:\n",
      "Index(['longitude', 'latitude', 'numOfPhotos', 'livingAreaSqFt',\n",
      "       'avgSchoolRating', 'numOfBathrooms', 'Income', 'MORTGAGE30US',\n",
      "       'MEDLISPRIPERSQUFEE12420', 'hasAssociation'],\n",
      "      dtype='object')\n"
     ]
    }
   ],
   "source": [
    "from sklearn.ensemble import RandomForestRegressor\n",
    "from sklearn.feature_selection import RFE\n",
    "\n",
    "# Separate features (X) and target (y)\n",
    "X = df_training.drop(columns=[\"latestPrice\"])\n",
    "y = df_training[\"latestPrice\"]\n",
    "\n",
    "# Initialize the Random Forest Regressor\n",
    "rf = RandomForestRegressor(n_estimators=100, random_state=42, n_jobs=-1)\n",
    "\n",
    "# Set the number of features to select (adjust as needed, e.g., top 10)\n",
    "n_features_to_select = 10\n",
    "\n",
    "# Initialize RFE with the RandomForestRegressor\n",
    "rfe = RFE(estimator=rf, n_features_to_select=n_features_to_select)\n",
    "\n",
    "# Fit RFE on the data\n",
    "rfe.fit(X, y)\n",
    "\n",
    "# Get the boolean mask of selected features\n",
    "selected_mask = rfe.support_\n",
    "\n",
    "# Retrieve the names of the selected features\n",
    "selected_features = X.columns[selected_mask]\n",
    "print(\"Selected Features by RFE:\")\n",
    "print(selected_features)"
   ]
  },
  {
   "cell_type": "markdown",
   "id": "5f847501ce786cd9",
   "metadata": {},
   "source": []
  },
  {
   "cell_type": "code",
   "execution_count": 88,
   "id": "24f4bfe0be5804db",
   "metadata": {
    "ExecuteTime": {
     "end_time": "2025-03-30T18:34:42.302434Z",
     "start_time": "2025-03-30T18:34:42.254716Z"
    }
   },
   "outputs": [],
   "source": [
    "df_model = df_training[['longitude', 'latitude', 'numOfPhotos', 'livingAreaSqFt',\n",
    "                        'avgSchoolRating', 'numOfBathrooms', 'Income', 'MORTGAGE30US',\n",
    "                        'MEDLISPRIPERSQUFEE12420', 'hasAssociation', 'latestPrice','latest_saledate']]"
   ]
  },
  {
   "cell_type": "code",
   "execution_count": 89,
   "id": "139f24ede298769e",
   "metadata": {
    "ExecuteTime": {
     "end_time": "2025-03-30T18:34:46.726869Z",
     "start_time": "2025-03-30T18:34:46.699570Z"
    }
   },
   "outputs": [],
   "source": [
    "df_model.to_pickle('filtered_features_RFE.pkl')"
   ]
  }
 ],
 "metadata": {},
 "nbformat": 4,
 "nbformat_minor": 5
}

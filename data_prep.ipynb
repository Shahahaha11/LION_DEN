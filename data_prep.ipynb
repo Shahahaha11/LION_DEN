{
 "cells": [
  {
   "cell_type": "markdown",
   "id": "6f196cf35493b977",
   "metadata": {},
   "source": [
    "# Data Preparation"
   ]
  },
  {
   "cell_type": "markdown",
   "id": "ed04aae5e79fe49a",
   "metadata": {},
   "source": [
    "## Import Libraries"
   ]
  },
  {
   "cell_type": "code",
   "execution_count": 1,
   "id": "initial_id",
   "metadata": {
    "ExecuteTime": {
     "end_time": "2025-03-28T09:26:15.772657Z",
     "start_time": "2025-03-28T09:26:07.001362Z"
    },
    "collapsed": true
   },
   "outputs": [
    {
     "name": "stdout",
     "output_type": "stream",
     "text": [
      "Requirement already satisfied: pandas in ./.venv/lib/python3.12/site-packages (2.2.3)\r\n",
      "Requirement already satisfied: numpy>=1.26.0 in ./.venv/lib/python3.12/site-packages (from pandas) (2.2.3)\r\n",
      "Requirement already satisfied: python-dateutil>=2.8.2 in ./.venv/lib/python3.12/site-packages (from pandas) (2.9.0.post0)\r\n",
      "Requirement already satisfied: pytz>=2020.1 in ./.venv/lib/python3.12/site-packages (from pandas) (2025.1)\r\n",
      "Requirement already satisfied: tzdata>=2022.7 in ./.venv/lib/python3.12/site-packages (from pandas) (2025.1)\r\n",
      "Requirement already satisfied: six>=1.5 in ./.venv/lib/python3.12/site-packages (from python-dateutil>=2.8.2->pandas) (1.17.0)\r\n",
      "\r\n",
      "\u001b[1m[\u001b[0m\u001b[34;49mnotice\u001b[0m\u001b[1;39;49m]\u001b[0m\u001b[39;49m A new release of pip is available: \u001b[0m\u001b[31;49m23.2.1\u001b[0m\u001b[39;49m -> \u001b[0m\u001b[32;49m25.0.1\u001b[0m\r\n",
      "\u001b[1m[\u001b[0m\u001b[34;49mnotice\u001b[0m\u001b[1;39;49m]\u001b[0m\u001b[39;49m To update, run: \u001b[0m\u001b[32;49mpython -m pip install --upgrade pip\u001b[0m\r\n",
      "Requirement already satisfied: matplotlib in ./.venv/lib/python3.12/site-packages (3.10.1)\r\n",
      "Requirement already satisfied: contourpy>=1.0.1 in ./.venv/lib/python3.12/site-packages (from matplotlib) (1.3.1)\r\n",
      "Requirement already satisfied: cycler>=0.10 in ./.venv/lib/python3.12/site-packages (from matplotlib) (0.12.1)\r\n",
      "Requirement already satisfied: fonttools>=4.22.0 in ./.venv/lib/python3.12/site-packages (from matplotlib) (4.56.0)\r\n",
      "Requirement already satisfied: kiwisolver>=1.3.1 in ./.venv/lib/python3.12/site-packages (from matplotlib) (1.4.8)\r\n",
      "Requirement already satisfied: numpy>=1.23 in ./.venv/lib/python3.12/site-packages (from matplotlib) (2.2.3)\r\n",
      "Requirement already satisfied: packaging>=20.0 in ./.venv/lib/python3.12/site-packages (from matplotlib) (24.2)\r\n",
      "Requirement already satisfied: pillow>=8 in ./.venv/lib/python3.12/site-packages (from matplotlib) (11.1.0)\r\n",
      "Requirement already satisfied: pyparsing>=2.3.1 in ./.venv/lib/python3.12/site-packages (from matplotlib) (3.2.1)\r\n",
      "Requirement already satisfied: python-dateutil>=2.7 in ./.venv/lib/python3.12/site-packages (from matplotlib) (2.9.0.post0)\r\n",
      "Requirement already satisfied: six>=1.5 in ./.venv/lib/python3.12/site-packages (from python-dateutil>=2.7->matplotlib) (1.17.0)\r\n",
      "\r\n",
      "\u001b[1m[\u001b[0m\u001b[34;49mnotice\u001b[0m\u001b[1;39;49m]\u001b[0m\u001b[39;49m A new release of pip is available: \u001b[0m\u001b[31;49m23.2.1\u001b[0m\u001b[39;49m -> \u001b[0m\u001b[32;49m25.0.1\u001b[0m\r\n",
      "\u001b[1m[\u001b[0m\u001b[34;49mnotice\u001b[0m\u001b[1;39;49m]\u001b[0m\u001b[39;49m To update, run: \u001b[0m\u001b[32;49mpython -m pip install --upgrade pip\u001b[0m\r\n",
      "Requirement already satisfied: seaborn in ./.venv/lib/python3.12/site-packages (0.13.2)\r\n",
      "Requirement already satisfied: numpy!=1.24.0,>=1.20 in ./.venv/lib/python3.12/site-packages (from seaborn) (2.2.3)\r\n",
      "Requirement already satisfied: pandas>=1.2 in ./.venv/lib/python3.12/site-packages (from seaborn) (2.2.3)\r\n",
      "Requirement already satisfied: matplotlib!=3.6.1,>=3.4 in ./.venv/lib/python3.12/site-packages (from seaborn) (3.10.1)\r\n",
      "Requirement already satisfied: contourpy>=1.0.1 in ./.venv/lib/python3.12/site-packages (from matplotlib!=3.6.1,>=3.4->seaborn) (1.3.1)\r\n",
      "Requirement already satisfied: cycler>=0.10 in ./.venv/lib/python3.12/site-packages (from matplotlib!=3.6.1,>=3.4->seaborn) (0.12.1)\r\n",
      "Requirement already satisfied: fonttools>=4.22.0 in ./.venv/lib/python3.12/site-packages (from matplotlib!=3.6.1,>=3.4->seaborn) (4.56.0)\r\n",
      "Requirement already satisfied: kiwisolver>=1.3.1 in ./.venv/lib/python3.12/site-packages (from matplotlib!=3.6.1,>=3.4->seaborn) (1.4.8)\r\n",
      "Requirement already satisfied: packaging>=20.0 in ./.venv/lib/python3.12/site-packages (from matplotlib!=3.6.1,>=3.4->seaborn) (24.2)\r\n",
      "Requirement already satisfied: pillow>=8 in ./.venv/lib/python3.12/site-packages (from matplotlib!=3.6.1,>=3.4->seaborn) (11.1.0)\r\n",
      "Requirement already satisfied: pyparsing>=2.3.1 in ./.venv/lib/python3.12/site-packages (from matplotlib!=3.6.1,>=3.4->seaborn) (3.2.1)\r\n",
      "Requirement already satisfied: python-dateutil>=2.7 in ./.venv/lib/python3.12/site-packages (from matplotlib!=3.6.1,>=3.4->seaborn) (2.9.0.post0)\r\n",
      "Requirement already satisfied: pytz>=2020.1 in ./.venv/lib/python3.12/site-packages (from pandas>=1.2->seaborn) (2025.1)\r\n",
      "Requirement already satisfied: tzdata>=2022.7 in ./.venv/lib/python3.12/site-packages (from pandas>=1.2->seaborn) (2025.1)\r\n",
      "Requirement already satisfied: six>=1.5 in ./.venv/lib/python3.12/site-packages (from python-dateutil>=2.7->matplotlib!=3.6.1,>=3.4->seaborn) (1.17.0)\r\n",
      "\r\n",
      "\u001b[1m[\u001b[0m\u001b[34;49mnotice\u001b[0m\u001b[1;39;49m]\u001b[0m\u001b[39;49m A new release of pip is available: \u001b[0m\u001b[31;49m23.2.1\u001b[0m\u001b[39;49m -> \u001b[0m\u001b[32;49m25.0.1\u001b[0m\r\n",
      "\u001b[1m[\u001b[0m\u001b[34;49mnotice\u001b[0m\u001b[1;39;49m]\u001b[0m\u001b[39;49m To update, run: \u001b[0m\u001b[32;49mpython -m pip install --upgrade pip\u001b[0m\r\n",
      "Requirement already satisfied: geopandas in ./.venv/lib/python3.12/site-packages (1.0.1)\r\n",
      "Requirement already satisfied: numpy>=1.22 in ./.venv/lib/python3.12/site-packages (from geopandas) (2.2.3)\r\n",
      "Requirement already satisfied: pyogrio>=0.7.2 in ./.venv/lib/python3.12/site-packages (from geopandas) (0.10.0)\r\n",
      "Requirement already satisfied: packaging in ./.venv/lib/python3.12/site-packages (from geopandas) (24.2)\r\n",
      "Requirement already satisfied: pandas>=1.4.0 in ./.venv/lib/python3.12/site-packages (from geopandas) (2.2.3)\r\n",
      "Requirement already satisfied: pyproj>=3.3.0 in ./.venv/lib/python3.12/site-packages (from geopandas) (3.7.1)\r\n",
      "Requirement already satisfied: shapely>=2.0.0 in ./.venv/lib/python3.12/site-packages (from geopandas) (2.0.7)\r\n",
      "Requirement already satisfied: python-dateutil>=2.8.2 in ./.venv/lib/python3.12/site-packages (from pandas>=1.4.0->geopandas) (2.9.0.post0)\r\n",
      "Requirement already satisfied: pytz>=2020.1 in ./.venv/lib/python3.12/site-packages (from pandas>=1.4.0->geopandas) (2025.1)\r\n",
      "Requirement already satisfied: tzdata>=2022.7 in ./.venv/lib/python3.12/site-packages (from pandas>=1.4.0->geopandas) (2025.1)\r\n",
      "Requirement already satisfied: certifi in ./.venv/lib/python3.12/site-packages (from pyogrio>=0.7.2->geopandas) (2025.1.31)\r\n",
      "Requirement already satisfied: six>=1.5 in ./.venv/lib/python3.12/site-packages (from python-dateutil>=2.8.2->pandas>=1.4.0->geopandas) (1.17.0)\r\n",
      "\r\n",
      "\u001b[1m[\u001b[0m\u001b[34;49mnotice\u001b[0m\u001b[1;39;49m]\u001b[0m\u001b[39;49m A new release of pip is available: \u001b[0m\u001b[31;49m23.2.1\u001b[0m\u001b[39;49m -> \u001b[0m\u001b[32;49m25.0.1\u001b[0m\r\n",
      "\u001b[1m[\u001b[0m\u001b[34;49mnotice\u001b[0m\u001b[1;39;49m]\u001b[0m\u001b[39;49m To update, run: \u001b[0m\u001b[32;49mpython -m pip install --upgrade pip\u001b[0m\r\n",
      "Requirement already satisfied: wordcloud in ./.venv/lib/python3.12/site-packages (1.9.4)\r\n",
      "Requirement already satisfied: numpy>=1.6.1 in ./.venv/lib/python3.12/site-packages (from wordcloud) (2.2.3)\r\n",
      "Requirement already satisfied: pillow in ./.venv/lib/python3.12/site-packages (from wordcloud) (11.1.0)\r\n",
      "Requirement already satisfied: matplotlib in ./.venv/lib/python3.12/site-packages (from wordcloud) (3.10.1)\r\n",
      "Requirement already satisfied: contourpy>=1.0.1 in ./.venv/lib/python3.12/site-packages (from matplotlib->wordcloud) (1.3.1)\r\n",
      "Requirement already satisfied: cycler>=0.10 in ./.venv/lib/python3.12/site-packages (from matplotlib->wordcloud) (0.12.1)\r\n",
      "Requirement already satisfied: fonttools>=4.22.0 in ./.venv/lib/python3.12/site-packages (from matplotlib->wordcloud) (4.56.0)\r\n",
      "Requirement already satisfied: kiwisolver>=1.3.1 in ./.venv/lib/python3.12/site-packages (from matplotlib->wordcloud) (1.4.8)\r\n",
      "Requirement already satisfied: packaging>=20.0 in ./.venv/lib/python3.12/site-packages (from matplotlib->wordcloud) (24.2)\r\n",
      "Requirement already satisfied: pyparsing>=2.3.1 in ./.venv/lib/python3.12/site-packages (from matplotlib->wordcloud) (3.2.1)\r\n",
      "Requirement already satisfied: python-dateutil>=2.7 in ./.venv/lib/python3.12/site-packages (from matplotlib->wordcloud) (2.9.0.post0)\r\n",
      "Requirement already satisfied: six>=1.5 in ./.venv/lib/python3.12/site-packages (from python-dateutil>=2.7->matplotlib->wordcloud) (1.17.0)\r\n",
      "\r\n",
      "\u001b[1m[\u001b[0m\u001b[34;49mnotice\u001b[0m\u001b[1;39;49m]\u001b[0m\u001b[39;49m A new release of pip is available: \u001b[0m\u001b[31;49m23.2.1\u001b[0m\u001b[39;49m -> \u001b[0m\u001b[32;49m25.0.1\u001b[0m\r\n",
      "\u001b[1m[\u001b[0m\u001b[34;49mnotice\u001b[0m\u001b[1;39;49m]\u001b[0m\u001b[39;49m To update, run: \u001b[0m\u001b[32;49mpython -m pip install --upgrade pip\u001b[0m\r\n",
      "Requirement already satisfied: mapclassify in ./.venv/lib/python3.12/site-packages (2.8.1)\r\n",
      "Requirement already satisfied: networkx>=2.7 in ./.venv/lib/python3.12/site-packages (from mapclassify) (3.4.2)\r\n",
      "Requirement already satisfied: numpy>=1.23 in ./.venv/lib/python3.12/site-packages (from mapclassify) (2.2.3)\r\n",
      "Requirement already satisfied: pandas!=1.5.0,>=1.4 in ./.venv/lib/python3.12/site-packages (from mapclassify) (2.2.3)\r\n",
      "Requirement already satisfied: scikit-learn>=1.0 in ./.venv/lib/python3.12/site-packages (from mapclassify) (1.6.1)\r\n",
      "Requirement already satisfied: scipy>=1.8 in ./.venv/lib/python3.12/site-packages (from mapclassify) (1.15.2)\r\n",
      "Requirement already satisfied: python-dateutil>=2.8.2 in ./.venv/lib/python3.12/site-packages (from pandas!=1.5.0,>=1.4->mapclassify) (2.9.0.post0)\r\n",
      "Requirement already satisfied: pytz>=2020.1 in ./.venv/lib/python3.12/site-packages (from pandas!=1.5.0,>=1.4->mapclassify) (2025.1)\r\n",
      "Requirement already satisfied: tzdata>=2022.7 in ./.venv/lib/python3.12/site-packages (from pandas!=1.5.0,>=1.4->mapclassify) (2025.1)\r\n",
      "Requirement already satisfied: joblib>=1.2.0 in ./.venv/lib/python3.12/site-packages (from scikit-learn>=1.0->mapclassify) (1.4.2)\r\n",
      "Requirement already satisfied: threadpoolctl>=3.1.0 in ./.venv/lib/python3.12/site-packages (from scikit-learn>=1.0->mapclassify) (3.5.0)\r\n",
      "Requirement already satisfied: six>=1.5 in ./.venv/lib/python3.12/site-packages (from python-dateutil>=2.8.2->pandas!=1.5.0,>=1.4->mapclassify) (1.17.0)\r\n",
      "\r\n",
      "\u001b[1m[\u001b[0m\u001b[34;49mnotice\u001b[0m\u001b[1;39;49m]\u001b[0m\u001b[39;49m A new release of pip is available: \u001b[0m\u001b[31;49m23.2.1\u001b[0m\u001b[39;49m -> \u001b[0m\u001b[32;49m25.0.1\u001b[0m\r\n",
      "\u001b[1m[\u001b[0m\u001b[34;49mnotice\u001b[0m\u001b[1;39;49m]\u001b[0m\u001b[39;49m To update, run: \u001b[0m\u001b[32;49mpython -m pip install --upgrade pip\u001b[0m\r\n",
      "Requirement already satisfied: mgwr in ./.venv/lib/python3.12/site-packages (2.2.1)\r\n",
      "Requirement already satisfied: scipy>=0.11 in ./.venv/lib/python3.12/site-packages (from mgwr) (1.15.2)\r\n",
      "Requirement already satisfied: numpy>=1.3 in ./.venv/lib/python3.12/site-packages (from mgwr) (2.2.3)\r\n",
      "Requirement already satisfied: libpysal>=4.0.0 in ./.venv/lib/python3.12/site-packages (from mgwr) (4.12.1)\r\n",
      "Requirement already satisfied: spglm>=1.0.6 in ./.venv/lib/python3.12/site-packages (from mgwr) (1.1.0)\r\n",
      "Requirement already satisfied: spreg in ./.venv/lib/python3.12/site-packages (from mgwr) (1.8.2)\r\n",
      "Requirement already satisfied: beautifulsoup4>=4.10 in ./.venv/lib/python3.12/site-packages (from libpysal>=4.0.0->mgwr) (4.13.3)\r\n",
      "Requirement already satisfied: geopandas>=0.10.0 in ./.venv/lib/python3.12/site-packages (from libpysal>=4.0.0->mgwr) (1.0.1)\r\n",
      "Requirement already satisfied: packaging>=22 in ./.venv/lib/python3.12/site-packages (from libpysal>=4.0.0->mgwr) (24.2)\r\n",
      "Requirement already satisfied: pandas>=1.4 in ./.venv/lib/python3.12/site-packages (from libpysal>=4.0.0->mgwr) (2.2.3)\r\n",
      "Requirement already satisfied: platformdirs>=2.0.2 in ./.venv/lib/python3.12/site-packages (from libpysal>=4.0.0->mgwr) (4.3.6)\r\n",
      "Requirement already satisfied: requests>=2.27 in ./.venv/lib/python3.12/site-packages (from libpysal>=4.0.0->mgwr) (2.32.3)\r\n",
      "Requirement already satisfied: shapely>=2.0.1 in ./.venv/lib/python3.12/site-packages (from libpysal>=4.0.0->mgwr) (2.0.7)\r\n",
      "Requirement already satisfied: scikit-learn>=1.1 in ./.venv/lib/python3.12/site-packages (from libpysal>=4.0.0->mgwr) (1.6.1)\r\n",
      "Requirement already satisfied: soupsieve>1.2 in ./.venv/lib/python3.12/site-packages (from beautifulsoup4>=4.10->libpysal>=4.0.0->mgwr) (2.6)\r\n",
      "Requirement already satisfied: typing-extensions>=4.0.0 in ./.venv/lib/python3.12/site-packages (from beautifulsoup4>=4.10->libpysal>=4.0.0->mgwr) (4.12.2)\r\n",
      "Requirement already satisfied: pyogrio>=0.7.2 in ./.venv/lib/python3.12/site-packages (from geopandas>=0.10.0->libpysal>=4.0.0->mgwr) (0.10.0)\r\n",
      "Requirement already satisfied: pyproj>=3.3.0 in ./.venv/lib/python3.12/site-packages (from geopandas>=0.10.0->libpysal>=4.0.0->mgwr) (3.7.1)\r\n",
      "Requirement already satisfied: python-dateutil>=2.8.2 in ./.venv/lib/python3.12/site-packages (from pandas>=1.4->libpysal>=4.0.0->mgwr) (2.9.0.post0)\r\n",
      "Requirement already satisfied: pytz>=2020.1 in ./.venv/lib/python3.12/site-packages (from pandas>=1.4->libpysal>=4.0.0->mgwr) (2025.1)\r\n",
      "Requirement already satisfied: tzdata>=2022.7 in ./.venv/lib/python3.12/site-packages (from pandas>=1.4->libpysal>=4.0.0->mgwr) (2025.1)\r\n",
      "Requirement already satisfied: charset-normalizer<4,>=2 in ./.venv/lib/python3.12/site-packages (from requests>=2.27->libpysal>=4.0.0->mgwr) (3.4.1)\r\n",
      "Requirement already satisfied: idna<4,>=2.5 in ./.venv/lib/python3.12/site-packages (from requests>=2.27->libpysal>=4.0.0->mgwr) (3.10)\r\n",
      "Requirement already satisfied: urllib3<3,>=1.21.1 in ./.venv/lib/python3.12/site-packages (from requests>=2.27->libpysal>=4.0.0->mgwr) (2.3.0)\r\n",
      "Requirement already satisfied: certifi>=2017.4.17 in ./.venv/lib/python3.12/site-packages (from requests>=2.27->libpysal>=4.0.0->mgwr) (2025.1.31)\r\n",
      "Requirement already satisfied: joblib>=1.2.0 in ./.venv/lib/python3.12/site-packages (from scikit-learn>=1.1->libpysal>=4.0.0->mgwr) (1.4.2)\r\n",
      "Requirement already satisfied: threadpoolctl>=3.1.0 in ./.venv/lib/python3.12/site-packages (from scikit-learn>=1.1->libpysal>=4.0.0->mgwr) (3.5.0)\r\n",
      "Requirement already satisfied: six>=1.5 in ./.venv/lib/python3.12/site-packages (from python-dateutil>=2.8.2->pandas>=1.4->libpysal>=4.0.0->mgwr) (1.17.0)\r\n",
      "\r\n",
      "\u001b[1m[\u001b[0m\u001b[34;49mnotice\u001b[0m\u001b[1;39;49m]\u001b[0m\u001b[39;49m A new release of pip is available: \u001b[0m\u001b[31;49m23.2.1\u001b[0m\u001b[39;49m -> \u001b[0m\u001b[32;49m25.0.1\u001b[0m\r\n",
      "\u001b[1m[\u001b[0m\u001b[34;49mnotice\u001b[0m\u001b[1;39;49m]\u001b[0m\u001b[39;49m To update, run: \u001b[0m\u001b[32;49mpython -m pip install --upgrade pip\u001b[0m\r\n",
      "Requirement already satisfied: statsmodels in ./.venv/lib/python3.12/site-packages (0.14.4)\r\n",
      "Requirement already satisfied: numpy<3,>=1.22.3 in ./.venv/lib/python3.12/site-packages (from statsmodels) (2.2.3)\r\n",
      "Requirement already satisfied: scipy!=1.9.2,>=1.8 in ./.venv/lib/python3.12/site-packages (from statsmodels) (1.15.2)\r\n",
      "Requirement already satisfied: pandas!=2.1.0,>=1.4 in ./.venv/lib/python3.12/site-packages (from statsmodels) (2.2.3)\r\n",
      "Requirement already satisfied: patsy>=0.5.6 in ./.venv/lib/python3.12/site-packages (from statsmodels) (1.0.1)\r\n",
      "Requirement already satisfied: packaging>=21.3 in ./.venv/lib/python3.12/site-packages (from statsmodels) (24.2)\r\n",
      "Requirement already satisfied: python-dateutil>=2.8.2 in ./.venv/lib/python3.12/site-packages (from pandas!=2.1.0,>=1.4->statsmodels) (2.9.0.post0)\r\n",
      "Requirement already satisfied: pytz>=2020.1 in ./.venv/lib/python3.12/site-packages (from pandas!=2.1.0,>=1.4->statsmodels) (2025.1)\r\n",
      "Requirement already satisfied: tzdata>=2022.7 in ./.venv/lib/python3.12/site-packages (from pandas!=2.1.0,>=1.4->statsmodels) (2025.1)\r\n",
      "Requirement already satisfied: six>=1.5 in ./.venv/lib/python3.12/site-packages (from python-dateutil>=2.8.2->pandas!=2.1.0,>=1.4->statsmodels) (1.17.0)\r\n",
      "\r\n",
      "\u001b[1m[\u001b[0m\u001b[34;49mnotice\u001b[0m\u001b[1;39;49m]\u001b[0m\u001b[39;49m A new release of pip is available: \u001b[0m\u001b[31;49m23.2.1\u001b[0m\u001b[39;49m -> \u001b[0m\u001b[32;49m25.0.1\u001b[0m\r\n",
      "\u001b[1m[\u001b[0m\u001b[34;49mnotice\u001b[0m\u001b[1;39;49m]\u001b[0m\u001b[39;49m To update, run: \u001b[0m\u001b[32;49mpython -m pip install --upgrade pip\u001b[0m\r\n"
     ]
    }
   ],
   "source": [
    "from posix import getcwd\n",
    "\n",
    "from jupyterlab.commands import get_workspaces_dir\n",
    "!pip install pandas\n",
    "!pip install matplotlib\n",
    "!pip install seaborn\n",
    "!pip install geopandas\n",
    "!pip install wordcloud\n",
    "!pip install mapclassify\n",
    "!pip install mgwr\n",
    "!pip install statsmodels"
   ]
  },
  {
   "cell_type": "code",
   "execution_count": 2,
   "id": "e73a1544677ac275",
   "metadata": {
    "ExecuteTime": {
     "end_time": "2025-03-28T09:26:15.960939Z",
     "start_time": "2025-03-28T09:26:15.862668Z"
    }
   },
   "outputs": [],
   "source": [
    "import pandas as pd\n",
    "import numpy as np\n",
    "import matplotlib.pyplot as plt\n",
    "import seaborn as sns\n",
    "import geopandas as gpd"
   ]
  },
  {
   "cell_type": "markdown",
   "id": "780dfcc74026b307",
   "metadata": {},
   "source": [
    "## Load and Merge Datasets\n",
    "\n",
    "There are 5 datasets that we will load and merge into one. Our main dataset is Austin housing price, which has most of the features needed for the model prediction. Besides, there is a dataset contain population and density for every zip code in the USA, a dataset contains income per zip code for Austin, mortage rate for Austin and median list price per square feet. "
   ]
  },
  {
   "cell_type": "markdown",
   "id": "c45277b611fa29d7",
   "metadata": {},
   "source": [
    "### The 1st dataset has information about population and density for every zip code in the US"
   ]
  },
  {
   "cell_type": "code",
   "execution_count": 36,
   "id": "7defdff57d16e67",
   "metadata": {
    "ExecuteTime": {
     "end_time": "2025-03-28T09:27:42.395993Z",
     "start_time": "2025-03-28T09:27:42.193922Z"
    }
   },
   "outputs": [],
   "source": [
    "zip = pd.read_csv(\"uszips.csv\")"
   ]
  },
  {
   "cell_type": "code",
   "execution_count": 39,
   "id": "7854e239f0e17812",
   "metadata": {
    "ExecuteTime": {
     "end_time": "2025-03-28T09:28:33.261661Z",
     "start_time": "2025-03-28T09:28:33.248716Z"
    }
   },
   "outputs": [
    {
     "data": {
      "text/plain": [
       "<bound method IndexOpsMixin.nunique of 0           Adjuntas\n",
       "1             Aguada\n",
       "2          Aguadilla\n",
       "3            Maricao\n",
       "4             Anasco\n",
       "            ...     \n",
       "33778          Hyder\n",
       "33779        Klawock\n",
       "33780     Metlakatla\n",
       "33781    Point Baker\n",
       "33782       Wrangell\n",
       "Name: city, Length: 33783, dtype: object>"
      ]
     },
     "execution_count": 39,
     "metadata": {},
     "output_type": "execute_result"
    }
   ],
   "source": [
    "#There are more than 30 000 cities in this data set, hence, we only need data for Austin, so in the next step, we will filter it\n",
    "zip['city'].nunique"
   ]
  },
  {
   "cell_type": "code",
   "execution_count": 41,
   "id": "d27d7be96f5dc130",
   "metadata": {
    "ExecuteTime": {
     "end_time": "2025-03-28T09:42:36.891198Z",
     "start_time": "2025-03-28T09:42:36.814290Z"
    }
   },
   "outputs": [
    {
     "data": {
      "text/plain": [
       "zip                 51\n",
       "lat                 51\n",
       "lng                 51\n",
       "city                51\n",
       "state_id            51\n",
       "state_name          51\n",
       "zcta                51\n",
       "parent_zcta          0\n",
       "population          51\n",
       "density             51\n",
       "county_fips         51\n",
       "county_name         51\n",
       "county_weights      51\n",
       "county_names_all    51\n",
       "county_fips_all     51\n",
       "imprecise           51\n",
       "military            51\n",
       "timezone            51\n",
       "dtype: int64"
      ]
     },
     "execution_count": 41,
     "metadata": {},
     "output_type": "execute_result"
    }
   ],
   "source": [
    "zip[zip['city'] == 'Austin'].count()"
   ]
  },
  {
   "cell_type": "code",
   "execution_count": 85,
   "id": "c713d471583c14bb",
   "metadata": {
    "ExecuteTime": {
     "end_time": "2025-03-28T14:05:03.311796Z",
     "start_time": "2025-03-28T14:05:03.290855Z"
    }
   },
   "outputs": [],
   "source": [
    "#reduce the data set to include only zip code for Austin and its population & density\n",
    "zip_austin = zip.loc[zip['city'].str.lower() == 'austin', ['zip','population', 'density']]"
   ]
  },
  {
   "cell_type": "code",
   "execution_count": 74,
   "id": "8311db2321939246",
   "metadata": {
    "ExecuteTime": {
     "end_time": "2025-03-28T11:05:43.879782Z",
     "start_time": "2025-03-28T11:05:43.858513Z"
    }
   },
   "outputs": [
    {
     "data": {
      "text/html": [
       "<div>\n",
       "<style scoped>\n",
       "    .dataframe tbody tr th:only-of-type {\n",
       "        vertical-align: middle;\n",
       "    }\n",
       "\n",
       "    .dataframe tbody tr th {\n",
       "        vertical-align: top;\n",
       "    }\n",
       "\n",
       "    .dataframe thead th {\n",
       "        text-align: right;\n",
       "    }\n",
       "</style>\n",
       "<table border=\"1\" class=\"dataframe\">\n",
       "  <thead>\n",
       "    <tr style=\"text-align: right;\">\n",
       "      <th></th>\n",
       "      <th>population</th>\n",
       "      <th>density</th>\n",
       "    </tr>\n",
       "  </thead>\n",
       "  <tbody>\n",
       "    <tr>\n",
       "      <th>5192</th>\n",
       "      <td>1,196</td>\n",
       "      <td>2</td>\n",
       "    </tr>\n",
       "    <tr>\n",
       "      <th>13838</th>\n",
       "      <td>1,203</td>\n",
       "      <td>21</td>\n",
       "    </tr>\n",
       "    <tr>\n",
       "      <th>15678</th>\n",
       "      <td>6,647</td>\n",
       "      <td>61</td>\n",
       "    </tr>\n",
       "    <tr>\n",
       "      <th>19143</th>\n",
       "      <td>29,438</td>\n",
       "      <td>60</td>\n",
       "    </tr>\n",
       "    <tr>\n",
       "      <th>25219</th>\n",
       "      <td>9,945</td>\n",
       "      <td>84</td>\n",
       "    </tr>\n",
       "    <tr>\n",
       "      <th>27913</th>\n",
       "      <td>11,114</td>\n",
       "      <td>2,845</td>\n",
       "    </tr>\n",
       "    <tr>\n",
       "      <th>27914</th>\n",
       "      <td>26,495</td>\n",
       "      <td>2,044</td>\n",
       "    </tr>\n",
       "    <tr>\n",
       "      <th>27915</th>\n",
       "      <td>22,484</td>\n",
       "      <td>1,544</td>\n",
       "    </tr>\n",
       "    <tr>\n",
       "      <th>27916</th>\n",
       "      <td>50,479</td>\n",
       "      <td>2,224</td>\n",
       "    </tr>\n",
       "    <tr>\n",
       "      <th>27917</th>\n",
       "      <td>32,937</td>\n",
       "      <td>6,143</td>\n",
       "    </tr>\n",
       "    <tr>\n",
       "      <th>27918</th>\n",
       "      <td>206</td>\n",
       "      <td>140</td>\n",
       "    </tr>\n",
       "    <tr>\n",
       "      <th>27919</th>\n",
       "      <td>36,085</td>\n",
       "      <td>1,068</td>\n",
       "    </tr>\n",
       "    <tr>\n",
       "      <th>27920</th>\n",
       "      <td>1,556</td>\n",
       "      <td>30</td>\n",
       "    </tr>\n",
       "    <tr>\n",
       "      <th>27921</th>\n",
       "      <td>10,728</td>\n",
       "      <td>1,161</td>\n",
       "    </tr>\n",
       "    <tr>\n",
       "      <th>27922</th>\n",
       "      <td>6,576</td>\n",
       "      <td>1,873</td>\n",
       "    </tr>\n",
       "    <tr>\n",
       "      <th>27923</th>\n",
       "      <td>36,307</td>\n",
       "      <td>1,986</td>\n",
       "    </tr>\n",
       "    <tr>\n",
       "      <th>27924</th>\n",
       "      <td>29,326</td>\n",
       "      <td>454</td>\n",
       "    </tr>\n",
       "    <tr>\n",
       "      <th>27925</th>\n",
       "      <td>10,810</td>\n",
       "      <td>236</td>\n",
       "    </tr>\n",
       "    <tr>\n",
       "      <th>27926</th>\n",
       "      <td>14,117</td>\n",
       "      <td>470</td>\n",
       "    </tr>\n",
       "    <tr>\n",
       "      <th>27927</th>\n",
       "      <td>30,894</td>\n",
       "      <td>1,535</td>\n",
       "    </tr>\n",
       "    <tr>\n",
       "      <th>27928</th>\n",
       "      <td>26,776</td>\n",
       "      <td>1,334</td>\n",
       "    </tr>\n",
       "    <tr>\n",
       "      <th>27929</th>\n",
       "      <td>30,440</td>\n",
       "      <td>1,198</td>\n",
       "    </tr>\n",
       "    <tr>\n",
       "      <th>27930</th>\n",
       "      <td>9,669</td>\n",
       "      <td>248</td>\n",
       "    </tr>\n",
       "    <tr>\n",
       "      <th>27931</th>\n",
       "      <td>27,136</td>\n",
       "      <td>1,198</td>\n",
       "    </tr>\n",
       "    <tr>\n",
       "      <th>27932</th>\n",
       "      <td>20,646</td>\n",
       "      <td>621</td>\n",
       "    </tr>\n",
       "    <tr>\n",
       "      <th>27933</th>\n",
       "      <td>9,339</td>\n",
       "      <td>322</td>\n",
       "    </tr>\n",
       "    <tr>\n",
       "      <th>27934</th>\n",
       "      <td>22,091</td>\n",
       "      <td>450</td>\n",
       "    </tr>\n",
       "    <tr>\n",
       "      <th>27935</th>\n",
       "      <td>20,112</td>\n",
       "      <td>385</td>\n",
       "    </tr>\n",
       "    <tr>\n",
       "      <th>27936</th>\n",
       "      <td>9,849</td>\n",
       "      <td>171</td>\n",
       "    </tr>\n",
       "    <tr>\n",
       "      <th>27937</th>\n",
       "      <td>26,413</td>\n",
       "      <td>280</td>\n",
       "    </tr>\n",
       "    <tr>\n",
       "      <th>27938</th>\n",
       "      <td>28,790</td>\n",
       "      <td>264</td>\n",
       "    </tr>\n",
       "    <tr>\n",
       "      <th>27939</th>\n",
       "      <td>20,850</td>\n",
       "      <td>695</td>\n",
       "    </tr>\n",
       "    <tr>\n",
       "      <th>27940</th>\n",
       "      <td>45,274</td>\n",
       "      <td>2,244</td>\n",
       "    </tr>\n",
       "    <tr>\n",
       "      <th>27941</th>\n",
       "      <td>638</td>\n",
       "      <td>42</td>\n",
       "    </tr>\n",
       "    <tr>\n",
       "      <th>27942</th>\n",
       "      <td>51,069</td>\n",
       "      <td>872</td>\n",
       "    </tr>\n",
       "    <tr>\n",
       "      <th>27943</th>\n",
       "      <td>61,122</td>\n",
       "      <td>1,718</td>\n",
       "    </tr>\n",
       "    <tr>\n",
       "      <th>27944</th>\n",
       "      <td>28,268</td>\n",
       "      <td>476</td>\n",
       "    </tr>\n",
       "    <tr>\n",
       "      <th>27945</th>\n",
       "      <td>21,757</td>\n",
       "      <td>378</td>\n",
       "    </tr>\n",
       "    <tr>\n",
       "      <th>27946</th>\n",
       "      <td>54,942</td>\n",
       "      <td>1,501</td>\n",
       "    </tr>\n",
       "    <tr>\n",
       "      <th>27947</th>\n",
       "      <td>34,939</td>\n",
       "      <td>1,393</td>\n",
       "    </tr>\n",
       "    <tr>\n",
       "      <th>27948</th>\n",
       "      <td>29,322</td>\n",
       "      <td>960</td>\n",
       "    </tr>\n",
       "    <tr>\n",
       "      <th>27949</th>\n",
       "      <td>16,027</td>\n",
       "      <td>2,562</td>\n",
       "    </tr>\n",
       "    <tr>\n",
       "      <th>27950</th>\n",
       "      <td>22,261</td>\n",
       "      <td>2,576</td>\n",
       "    </tr>\n",
       "    <tr>\n",
       "      <th>27951</th>\n",
       "      <td>58,449</td>\n",
       "      <td>1,989</td>\n",
       "    </tr>\n",
       "    <tr>\n",
       "      <th>27952</th>\n",
       "      <td>31,410</td>\n",
       "      <td>801</td>\n",
       "    </tr>\n",
       "    <tr>\n",
       "      <th>27953</th>\n",
       "      <td>9,844</td>\n",
       "      <td>2,275</td>\n",
       "    </tr>\n",
       "    <tr>\n",
       "      <th>27954</th>\n",
       "      <td>24,327</td>\n",
       "      <td>1,897</td>\n",
       "    </tr>\n",
       "    <tr>\n",
       "      <th>27955</th>\n",
       "      <td>50,592</td>\n",
       "      <td>2,150</td>\n",
       "    </tr>\n",
       "    <tr>\n",
       "      <th>27956</th>\n",
       "      <td>44,882</td>\n",
       "      <td>1,216</td>\n",
       "    </tr>\n",
       "    <tr>\n",
       "      <th>28804</th>\n",
       "      <td>1,557</td>\n",
       "      <td>18</td>\n",
       "    </tr>\n",
       "  </tbody>\n",
       "</table>\n",
       "</div>"
      ],
      "text/plain": [
       "       population  density\n",
       "5192        1,196        2\n",
       "13838       1,203       21\n",
       "15678       6,647       61\n",
       "19143      29,438       60\n",
       "25219       9,945       84\n",
       "27913      11,114    2,845\n",
       "27914      26,495    2,044\n",
       "27915      22,484    1,544\n",
       "27916      50,479    2,224\n",
       "27917      32,937    6,143\n",
       "27918         206      140\n",
       "27919      36,085    1,068\n",
       "27920       1,556       30\n",
       "27921      10,728    1,161\n",
       "27922       6,576    1,873\n",
       "27923      36,307    1,986\n",
       "27924      29,326      454\n",
       "27925      10,810      236\n",
       "27926      14,117      470\n",
       "27927      30,894    1,535\n",
       "27928      26,776    1,334\n",
       "27929      30,440    1,198\n",
       "27930       9,669      248\n",
       "27931      27,136    1,198\n",
       "27932      20,646      621\n",
       "27933       9,339      322\n",
       "27934      22,091      450\n",
       "27935      20,112      385\n",
       "27936       9,849      171\n",
       "27937      26,413      280\n",
       "27938      28,790      264\n",
       "27939      20,850      695\n",
       "27940      45,274    2,244\n",
       "27941         638       42\n",
       "27942      51,069      872\n",
       "27943      61,122    1,718\n",
       "27944      28,268      476\n",
       "27945      21,757      378\n",
       "27946      54,942    1,501\n",
       "27947      34,939    1,393\n",
       "27948      29,322      960\n",
       "27949      16,027    2,562\n",
       "27950      22,261    2,576\n",
       "27951      58,449    1,989\n",
       "27952      31,410      801\n",
       "27953       9,844    2,275\n",
       "27954      24,327    1,897\n",
       "27955      50,592    2,150\n",
       "27956      44,882    1,216\n",
       "28804       1,557       18"
      ]
     },
     "execution_count": 74,
     "metadata": {},
     "output_type": "execute_result"
    }
   ],
   "source": [
    "zip_austin"
   ]
  },
  {
   "cell_type": "code",
   "execution_count": 45,
   "id": "daef48c47fad970c",
   "metadata": {
    "ExecuteTime": {
     "end_time": "2025-03-28T09:50:42.177543Z",
     "start_time": "2025-03-28T09:50:42.143089Z"
    }
   },
   "outputs": [],
   "source": [
    "#remove the row which has density = 0, this might due to lack of data\n",
    "zip_austin = zip_austin[zip_austin['density'] != 0]"
   ]
  },
  {
   "cell_type": "markdown",
   "id": "d054e253d8aee986",
   "metadata": {},
   "source": [
    "### Another data set with Austin income by zip code is loaded"
   ]
  },
  {
   "cell_type": "code",
   "execution_count": 149,
   "id": "ff67f722ffcd0811",
   "metadata": {
    "ExecuteTime": {
     "end_time": "2025-03-28T21:03:53.279099Z",
     "start_time": "2025-03-28T21:03:53.224481Z"
    }
   },
   "outputs": [
    {
     "data": {
      "text/html": [
       "<div>\n",
       "<style scoped>\n",
       "    .dataframe tbody tr th:only-of-type {\n",
       "        vertical-align: middle;\n",
       "    }\n",
       "\n",
       "    .dataframe tbody tr th {\n",
       "        vertical-align: top;\n",
       "    }\n",
       "\n",
       "    .dataframe thead th {\n",
       "        text-align: right;\n",
       "    }\n",
       "</style>\n",
       "<table border=\"1\" class=\"dataframe\">\n",
       "  <thead>\n",
       "    <tr style=\"text-align: right;\">\n",
       "      <th></th>\n",
       "      <th>ZIP</th>\n",
       "      <th>Income</th>\n",
       "    </tr>\n",
       "  </thead>\n",
       "  <tbody>\n",
       "    <tr>\n",
       "      <th>0</th>\n",
       "      <td>78617</td>\n",
       "      <td>78019</td>\n",
       "    </tr>\n",
       "    <tr>\n",
       "      <th>1</th>\n",
       "      <td>78652</td>\n",
       "      <td>118750</td>\n",
       "    </tr>\n",
       "    <tr>\n",
       "      <th>2</th>\n",
       "      <td>78701</td>\n",
       "      <td>154867</td>\n",
       "    </tr>\n",
       "    <tr>\n",
       "      <th>3</th>\n",
       "      <td>78702</td>\n",
       "      <td>101304</td>\n",
       "    </tr>\n",
       "    <tr>\n",
       "      <th>4</th>\n",
       "      <td>78703</td>\n",
       "      <td>144637</td>\n",
       "    </tr>\n",
       "  </tbody>\n",
       "</table>\n",
       "</div>"
      ],
      "text/plain": [
       "     ZIP  Income\n",
       "0  78617   78019\n",
       "1  78652  118750\n",
       "2  78701  154867\n",
       "3  78702  101304\n",
       "4  78703  144637"
      ]
     },
     "execution_count": 149,
     "metadata": {},
     "output_type": "execute_result"
    }
   ],
   "source": [
    "income = pd.read_csv('Income By Zipcode.csv', sep =';')\n",
    "income['ZIP'].nunique()"
   ]
  },
  {
   "cell_type": "code",
   "execution_count": 150,
   "id": "5fa200ec83f514a5",
   "metadata": {
    "ExecuteTime": {
     "end_time": "2025-03-28T21:04:26.495285Z",
     "start_time": "2025-03-28T21:04:26.467868Z"
    }
   },
   "outputs": [
    {
     "data": {
      "text/html": [
       "<div>\n",
       "<style scoped>\n",
       "    .dataframe tbody tr th:only-of-type {\n",
       "        vertical-align: middle;\n",
       "    }\n",
       "\n",
       "    .dataframe tbody tr th {\n",
       "        vertical-align: top;\n",
       "    }\n",
       "\n",
       "    .dataframe thead th {\n",
       "        text-align: right;\n",
       "    }\n",
       "</style>\n",
       "<table border=\"1\" class=\"dataframe\">\n",
       "  <thead>\n",
       "    <tr style=\"text-align: right;\">\n",
       "      <th></th>\n",
       "      <th>ZIP</th>\n",
       "      <th>Income</th>\n",
       "    </tr>\n",
       "  </thead>\n",
       "  <tbody>\n",
       "    <tr>\n",
       "      <th>0</th>\n",
       "      <td>78617</td>\n",
       "      <td>78019</td>\n",
       "    </tr>\n",
       "    <tr>\n",
       "      <th>1</th>\n",
       "      <td>78652</td>\n",
       "      <td>118750</td>\n",
       "    </tr>\n",
       "    <tr>\n",
       "      <th>2</th>\n",
       "      <td>78701</td>\n",
       "      <td>154867</td>\n",
       "    </tr>\n",
       "    <tr>\n",
       "      <th>3</th>\n",
       "      <td>78702</td>\n",
       "      <td>101304</td>\n",
       "    </tr>\n",
       "    <tr>\n",
       "      <th>4</th>\n",
       "      <td>78703</td>\n",
       "      <td>144637</td>\n",
       "    </tr>\n",
       "  </tbody>\n",
       "</table>\n",
       "</div>"
      ],
      "text/plain": [
       "     ZIP  Income\n",
       "0  78617   78019\n",
       "1  78652  118750\n",
       "2  78701  154867\n",
       "3  78702  101304\n",
       "4  78703  144637"
      ]
     },
     "execution_count": 150,
     "metadata": {},
     "output_type": "execute_result"
    }
   ],
   "source": [
    "income.head()"
   ]
  },
  {
   "cell_type": "markdown",
   "id": "b16ed0b28cdab4b6",
   "metadata": {},
   "source": [
    "### The main dataset about Austin housing "
   ]
  },
  {
   "cell_type": "code",
   "execution_count": 48,
   "id": "73f2bcf6a149027a",
   "metadata": {
    "ExecuteTime": {
     "end_time": "2025-03-28T10:06:14.138328Z",
     "start_time": "2025-03-28T10:06:13.943164Z"
    }
   },
   "outputs": [],
   "source": [
    "data = pd.read_csv('austinHousingData.csv')\n",
    "data = data[data['city'] == 'austin']"
   ]
  },
  {
   "cell_type": "code",
   "execution_count": 151,
   "id": "7db9dc1f0c41cad7",
   "metadata": {
    "ExecuteTime": {
     "end_time": "2025-03-28T21:04:53.428777Z",
     "start_time": "2025-03-28T21:04:53.391704Z"
    }
   },
   "outputs": [
    {
     "data": {
      "text/html": [
       "<div>\n",
       "<style scoped>\n",
       "    .dataframe tbody tr th:only-of-type {\n",
       "        vertical-align: middle;\n",
       "    }\n",
       "\n",
       "    .dataframe tbody tr th {\n",
       "        vertical-align: top;\n",
       "    }\n",
       "\n",
       "    .dataframe thead th {\n",
       "        text-align: right;\n",
       "    }\n",
       "</style>\n",
       "<table border=\"1\" class=\"dataframe\">\n",
       "  <thead>\n",
       "    <tr style=\"text-align: right;\">\n",
       "      <th></th>\n",
       "      <th>zpid</th>\n",
       "      <th>city</th>\n",
       "      <th>streetAddress</th>\n",
       "      <th>zipcode</th>\n",
       "      <th>description</th>\n",
       "      <th>latitude</th>\n",
       "      <th>longitude</th>\n",
       "      <th>propertyTaxRate</th>\n",
       "      <th>garageSpaces</th>\n",
       "      <th>hasAssociation</th>\n",
       "      <th>...</th>\n",
       "      <th>MedianStudentsPerTeacher</th>\n",
       "      <th>numOfBathrooms</th>\n",
       "      <th>numOfBedrooms</th>\n",
       "      <th>numOfStories</th>\n",
       "      <th>homeImage</th>\n",
       "      <th>ZIP</th>\n",
       "      <th>Income</th>\n",
       "      <th>zip</th>\n",
       "      <th>population</th>\n",
       "      <th>density</th>\n",
       "    </tr>\n",
       "  </thead>\n",
       "  <tbody>\n",
       "    <tr>\n",
       "      <th>0</th>\n",
       "      <td>116080992</td>\n",
       "      <td>austin</td>\n",
       "      <td>10505 Cannon Mark Way</td>\n",
       "      <td>78717</td>\n",
       "      <td>*PLEASE SEE THE WALKTHROUGH VIRTUAL TOUR*This ...</td>\n",
       "      <td>30</td>\n",
       "      <td>-98</td>\n",
       "      <td>2</td>\n",
       "      <td>0</td>\n",
       "      <td>True</td>\n",
       "      <td>...</td>\n",
       "      <td>14</td>\n",
       "      <td>6</td>\n",
       "      <td>5</td>\n",
       "      <td>2</td>\n",
       "      <td>116080992_83c089e97b4e96ecb01c3555fa8252d0-p_f...</td>\n",
       "      <td>78,717</td>\n",
       "      <td>140,483</td>\n",
       "      <td>78,717</td>\n",
       "      <td>36,085</td>\n",
       "      <td>1,068</td>\n",
       "    </tr>\n",
       "    <tr>\n",
       "      <th>1</th>\n",
       "      <td>88013985</td>\n",
       "      <td>austin</td>\n",
       "      <td>15524 Staked Plains Loop</td>\n",
       "      <td>78717</td>\n",
       "      <td>Rare opportunity in this high demand area of A...</td>\n",
       "      <td>30</td>\n",
       "      <td>-98</td>\n",
       "      <td>2</td>\n",
       "      <td>2</td>\n",
       "      <td>True</td>\n",
       "      <td>...</td>\n",
       "      <td>16</td>\n",
       "      <td>4</td>\n",
       "      <td>5</td>\n",
       "      <td>2</td>\n",
       "      <td>88013985_6d4b35d2a232c42fcc863317f22401c7-p_f.jpg</td>\n",
       "      <td>78,717</td>\n",
       "      <td>140,483</td>\n",
       "      <td>78,717</td>\n",
       "      <td>36,085</td>\n",
       "      <td>1,068</td>\n",
       "    </tr>\n",
       "    <tr>\n",
       "      <th>2</th>\n",
       "      <td>70344594</td>\n",
       "      <td>austin</td>\n",
       "      <td>15217 Sabal Palm Rd</td>\n",
       "      <td>78724</td>\n",
       "      <td>Charming Home boasting 3 bedrooms and 2 baths....</td>\n",
       "      <td>30</td>\n",
       "      <td>-98</td>\n",
       "      <td>2</td>\n",
       "      <td>2</td>\n",
       "      <td>False</td>\n",
       "      <td>...</td>\n",
       "      <td>13</td>\n",
       "      <td>2</td>\n",
       "      <td>3</td>\n",
       "      <td>1</td>\n",
       "      <td>70344594_3e29ab1c54a4a8ca80360911b9ac7434-p_f.jpg</td>\n",
       "      <td>78,724</td>\n",
       "      <td>76,906</td>\n",
       "      <td>78,724</td>\n",
       "      <td>29,326</td>\n",
       "      <td>454</td>\n",
       "    </tr>\n",
       "    <tr>\n",
       "      <th>3</th>\n",
       "      <td>185217484</td>\n",
       "      <td>austin</td>\n",
       "      <td>14004 Chisos Trl</td>\n",
       "      <td>78717</td>\n",
       "      <td>COVETED, SPACIOUS 3 bed + OFFICE, 1story MIL P...</td>\n",
       "      <td>30</td>\n",
       "      <td>-98</td>\n",
       "      <td>2</td>\n",
       "      <td>0</td>\n",
       "      <td>True</td>\n",
       "      <td>...</td>\n",
       "      <td>16</td>\n",
       "      <td>2</td>\n",
       "      <td>3</td>\n",
       "      <td>1</td>\n",
       "      <td>185217484_1f06634bc9d5424bc0f094f68ca72fe4-p_f...</td>\n",
       "      <td>78,717</td>\n",
       "      <td>140,483</td>\n",
       "      <td>78,717</td>\n",
       "      <td>36,085</td>\n",
       "      <td>1,068</td>\n",
       "    </tr>\n",
       "    <tr>\n",
       "      <th>5</th>\n",
       "      <td>116080981</td>\n",
       "      <td>austin</td>\n",
       "      <td>14405 Laurinburg Dr</td>\n",
       "      <td>78717</td>\n",
       "      <td>Popular Bingham Floor plan in sought after Nor...</td>\n",
       "      <td>30</td>\n",
       "      <td>-98</td>\n",
       "      <td>2</td>\n",
       "      <td>2</td>\n",
       "      <td>True</td>\n",
       "      <td>...</td>\n",
       "      <td>14</td>\n",
       "      <td>5</td>\n",
       "      <td>4</td>\n",
       "      <td>2</td>\n",
       "      <td>116080981_b15ecd54b82b93b6af1408beb22e069f-p_f...</td>\n",
       "      <td>78,717</td>\n",
       "      <td>140,483</td>\n",
       "      <td>78,717</td>\n",
       "      <td>36,085</td>\n",
       "      <td>1,068</td>\n",
       "    </tr>\n",
       "  </tbody>\n",
       "</table>\n",
       "<p>5 rows × 52 columns</p>\n",
       "</div>"
      ],
      "text/plain": [
       "        zpid    city             streetAddress  zipcode  \\\n",
       "0  116080992  austin     10505 Cannon Mark Way    78717   \n",
       "1   88013985  austin  15524 Staked Plains Loop    78717   \n",
       "2   70344594  austin       15217 Sabal Palm Rd    78724   \n",
       "3  185217484  austin          14004 Chisos Trl    78717   \n",
       "5  116080981  austin       14405 Laurinburg Dr    78717   \n",
       "\n",
       "                                         description  latitude  longitude  \\\n",
       "0  *PLEASE SEE THE WALKTHROUGH VIRTUAL TOUR*This ...        30        -98   \n",
       "1  Rare opportunity in this high demand area of A...        30        -98   \n",
       "2  Charming Home boasting 3 bedrooms and 2 baths....        30        -98   \n",
       "3  COVETED, SPACIOUS 3 bed + OFFICE, 1story MIL P...        30        -98   \n",
       "5  Popular Bingham Floor plan in sought after Nor...        30        -98   \n",
       "\n",
       "   propertyTaxRate  garageSpaces  hasAssociation  ...  \\\n",
       "0                2             0            True  ...   \n",
       "1                2             2            True  ...   \n",
       "2                2             2           False  ...   \n",
       "3                2             0            True  ...   \n",
       "5                2             2            True  ...   \n",
       "\n",
       "   MedianStudentsPerTeacher  numOfBathrooms  numOfBedrooms  numOfStories  \\\n",
       "0                        14               6              5             2   \n",
       "1                        16               4              5             2   \n",
       "2                        13               2              3             1   \n",
       "3                        16               2              3             1   \n",
       "5                        14               5              4             2   \n",
       "\n",
       "                                           homeImage    ZIP  Income    zip  \\\n",
       "0  116080992_83c089e97b4e96ecb01c3555fa8252d0-p_f... 78,717 140,483 78,717   \n",
       "1  88013985_6d4b35d2a232c42fcc863317f22401c7-p_f.jpg 78,717 140,483 78,717   \n",
       "2  70344594_3e29ab1c54a4a8ca80360911b9ac7434-p_f.jpg 78,724  76,906 78,724   \n",
       "3  185217484_1f06634bc9d5424bc0f094f68ca72fe4-p_f... 78,717 140,483 78,717   \n",
       "5  116080981_b15ecd54b82b93b6af1408beb22e069f-p_f... 78,717 140,483 78,717   \n",
       "\n",
       "   population  density  \n",
       "0      36,085    1,068  \n",
       "1      36,085    1,068  \n",
       "2      29,326      454  \n",
       "3      36,085    1,068  \n",
       "5      36,085    1,068  \n",
       "\n",
       "[5 rows x 52 columns]"
      ]
     },
     "execution_count": 151,
     "metadata": {},
     "output_type": "execute_result"
    }
   ],
   "source": [
    "data.head()"
   ]
  },
  {
   "cell_type": "code",
   "execution_count": 65,
   "id": "a3e7e290bb197082",
   "metadata": {
    "ExecuteTime": {
     "end_time": "2025-03-28T10:47:43.501353Z",
     "start_time": "2025-03-28T10:47:43.472407Z"
    }
   },
   "outputs": [
    {
     "data": {
      "text/plain": [
       "45"
      ]
     },
     "execution_count": 65,
     "metadata": {},
     "output_type": "execute_result"
    }
   ],
   "source": [
    "data['zipcode'].nunique()"
   ]
  },
  {
   "cell_type": "code",
   "execution_count": 90,
   "id": "6eae81145667cd10",
   "metadata": {
    "ExecuteTime": {
     "end_time": "2025-03-28T14:11:45.217813Z",
     "start_time": "2025-03-28T14:11:45.155187Z"
    }
   },
   "outputs": [],
   "source": [
    "#merge population, density and income with zip code to the main dataset\n",
    "data = data.merge(income, left_on='zipcode', right_on='ZIP', how='left')\\\n",
    "           .merge(zip_austin, left_on='zipcode', right_on='zip', how='left')"
   ]
  },
  {
   "cell_type": "code",
   "execution_count": 94,
   "id": "2c0a1ec80042a17c",
   "metadata": {
    "ExecuteTime": {
     "end_time": "2025-03-28T14:13:32.451771Z",
     "start_time": "2025-03-28T14:13:32.415429Z"
    }
   },
   "outputs": [
    {
     "name": "stdout",
     "output_type": "stream",
     "text": [
      "zpid                            0\n",
      "city                            0\n",
      "streetAddress                   0\n",
      "zipcode                         0\n",
      "description                     2\n",
      "latitude                        0\n",
      "longitude                       0\n",
      "propertyTaxRate                 0\n",
      "garageSpaces                    0\n",
      "hasAssociation                  0\n",
      "hasCooling                      0\n",
      "hasGarage                       0\n",
      "hasHeating                      0\n",
      "hasSpa                          0\n",
      "hasView                         0\n",
      "homeType                        0\n",
      "parkingSpaces                   0\n",
      "yearBuilt                       0\n",
      "latestPrice                     0\n",
      "numPriceChanges                 0\n",
      "latest_saledate                 0\n",
      "latest_salemonth                0\n",
      "latest_saleyear                 0\n",
      "latestPriceSource               0\n",
      "numOfPhotos                     0\n",
      "numOfAccessibilityFeatures      0\n",
      "numOfAppliances                 0\n",
      "numOfParkingFeatures            0\n",
      "numOfPatioAndPorchFeatures      0\n",
      "numOfSecurityFeatures           0\n",
      "numOfWaterfrontFeatures         0\n",
      "numOfWindowFeatures             0\n",
      "numOfCommunityFeatures          0\n",
      "lotSizeSqFt                     0\n",
      "livingAreaSqFt                  0\n",
      "numOfPrimarySchools             0\n",
      "numOfElementarySchools          0\n",
      "numOfMiddleSchools              0\n",
      "numOfHighSchools                0\n",
      "avgSchoolDistance               0\n",
      "avgSchoolRating                 0\n",
      "avgSchoolSize                   0\n",
      "MedianStudentsPerTeacher        0\n",
      "numOfBathrooms                  0\n",
      "numOfBedrooms                   0\n",
      "numOfStories                    0\n",
      "homeImage                       0\n",
      "ZIP                           786\n",
      "Income                        786\n",
      "zip                             2\n",
      "population                      2\n",
      "density                         2\n",
      "dtype: int64\n"
     ]
    }
   ],
   "source": [
    "#in merging process, there are some missing value for certain area, we will investigate and fill the missing value\n",
    "print(data.isnull().sum())"
   ]
  },
  {
   "cell_type": "code",
   "execution_count": 97,
   "id": "b627f2f8ef2223ab",
   "metadata": {
    "ExecuteTime": {
     "end_time": "2025-03-28T14:31:48.151046Z",
     "start_time": "2025-03-28T14:31:48.113040Z"
    }
   },
   "outputs": [
    {
     "data": {
      "text/plain": [
       "array([78734, 78737, 78736, 78738, 78653])"
      ]
     },
     "execution_count": 97,
     "metadata": {},
     "output_type": "execute_result"
    }
   ],
   "source": [
    "#checking for income data missing \n",
    "missing_income = data[data['ZIP'].isnull() | data['Income'].isnull()]\n",
    "missing_income['zipcode'].unique()"
   ]
  },
  {
   "cell_type": "markdown",
   "id": "1fbdacbe43f0c26",
   "metadata": {},
   "source": [
    "As of now, the income data for 5 zip code is missing. We are taking Median Household Income data from https://www.incomebyzipcode.com/texas to fill the missing value:\n",
    "\n",
    "For 78734: 129,116 <br>\n",
    "For 78737: 164,066 <br>\n",
    "For 78736: 100,761 <br>\n",
    "For 78738: 169,911 <br>\n",
    "For 78653: 92,799 <br>"
   ]
  },
  {
   "cell_type": "code",
   "execution_count": 101,
   "id": "d0dab650cfc84f3a",
   "metadata": {
    "ExecuteTime": {
     "end_time": "2025-03-28T14:40:00.488217Z",
     "start_time": "2025-03-28T14:40:00.465756Z"
    }
   },
   "outputs": [
    {
     "name": "stdout",
     "output_type": "stream",
     "text": [
      "       zipcode  Income\n",
      "355      78734 129,116\n",
      "364      78734 129,116\n",
      "378      78734 129,116\n",
      "431      78737 164,066\n",
      "442      78737 164,066\n",
      "...        ...     ...\n",
      "12842    78736 100,761\n",
      "13803    78734 129,116\n",
      "13810    78737 164,066\n",
      "13812    78736 100,761\n",
      "13814    78737 164,066\n",
      "\n",
      "[786 rows x 2 columns]\n"
     ]
    }
   ],
   "source": [
    "fill_income = {\n",
    "    78734: 129116,\n",
    "    78737: 164066,\n",
    "    78736: 100761,\n",
    "    78738: 169911,\n",
    "    78653: 92799}\n",
    "\n",
    "for zip_code, median_income in fill_income.items():\n",
    "    mask = (data['zipcode'] == zip_code) & (data['Income'].isnull())\n",
    "    data.loc[mask, 'Income'] = median_income\n",
    "\n",
    "filled_income = data.loc[data['zipcode'].isin(fill_income.keys()), ['zipcode', 'Income']]\n",
    "print(filled_income)"
   ]
  },
  {
   "cell_type": "code",
   "execution_count": 102,
   "id": "36faf3bd85725c3b",
   "metadata": {
    "ExecuteTime": {
     "end_time": "2025-03-28T14:42:32.396366Z",
     "start_time": "2025-03-28T14:42:32.357022Z"
    }
   },
   "outputs": [
    {
     "data": {
      "text/plain": [
       "array([78652, 78653])"
      ]
     },
     "execution_count": 102,
     "metadata": {},
     "output_type": "execute_result"
    }
   ],
   "source": [
    "#check rows with misisng population data\n",
    "missing_pop = data[data['zip'].isnull() | data['population'].isnull()]\n",
    "missing_pop['zipcode'].unique()"
   ]
  },
  {
   "cell_type": "markdown",
   "id": "b71aac8a3f51096a",
   "metadata": {},
   "source": [
    "Also from https://www.incomebyzipcode.com/texas/ there is information about population and density\n",
    "\n",
    "For 78652: \n",
    "\n",
    "Estimated Population: Approximately 7,500 residents <br>\n",
    "Population Density: Roughly 1,300 people per square mile\n",
    "\n",
    "For 78653:\n",
    "\n",
    "Estimated Population: Approximately 8,200 residents <br>\n",
    "Population Density: Roughly 1,400 people per square mile"
   ]
  },
  {
   "cell_type": "code",
   "execution_count": 103,
   "id": "7c9aef47aedac7c6",
   "metadata": {
    "ExecuteTime": {
     "end_time": "2025-03-28T14:50:16.857977Z",
     "start_time": "2025-03-28T14:50:16.836967Z"
    }
   },
   "outputs": [
    {
     "name": "stdout",
     "output_type": "stream",
     "text": [
      "       zipcode  population  density\n",
      "750      78652       7,500    1,300\n",
      "10686    78653       8,200    1,400\n"
     ]
    }
   ],
   "source": [
    "# Define a dictionary mapping the zip codes to their population and density estimates.\n",
    "fill_pop = {\n",
    "    78652: {'population': 7500, 'density': 1300},\n",
    "    78653: {'population': 8200, 'density': 1400}}\n",
    "\n",
    "for zip_code, values in fill_pop.items():\n",
    "    mask = data['zipcode'] == zip_code\n",
    "    data.loc[mask, 'population'] = values['population']\n",
    "    data.loc[mask, 'density'] = values['density']\n",
    "\n",
    "filled_pop = data.loc[data['zipcode'].isin(fill_pop.keys()), ['zipcode', 'population', 'density']]\n",
    "print(filled_pop)"
   ]
  },
  {
   "cell_type": "code",
   "execution_count": 119,
   "id": "e771679d9ebe8c79",
   "metadata": {
    "ExecuteTime": {
     "end_time": "2025-03-28T15:37:23.652928Z",
     "start_time": "2025-03-28T15:37:23.556372Z"
    }
   },
   "outputs": [
    {
     "name": "stdout",
     "output_type": "stream",
     "text": [
      "Index(['zpid', 'city', 'streetAddress', 'zipcode', 'description', 'latitude',\n",
      "       'longitude', 'propertyTaxRate', 'garageSpaces', 'hasAssociation',\n",
      "       'hasCooling', 'hasGarage', 'hasHeating', 'hasSpa', 'hasView',\n",
      "       'homeType', 'parkingSpaces', 'yearBuilt', 'latestPrice',\n",
      "       'numPriceChanges', 'latest_saledate', 'latest_salemonth',\n",
      "       'latest_saleyear', 'latestPriceSource', 'numOfPhotos',\n",
      "       'numOfAccessibilityFeatures', 'numOfAppliances', 'numOfParkingFeatures',\n",
      "       'numOfPatioAndPorchFeatures', 'numOfSecurityFeatures',\n",
      "       'numOfWaterfrontFeatures', 'numOfWindowFeatures',\n",
      "       'numOfCommunityFeatures', 'lotSizeSqFt', 'livingAreaSqFt',\n",
      "       'numOfPrimarySchools', 'numOfElementarySchools', 'numOfMiddleSchools',\n",
      "       'numOfHighSchools', 'avgSchoolDistance', 'avgSchoolRating',\n",
      "       'avgSchoolSize', 'MedianStudentsPerTeacher', 'numOfBathrooms',\n",
      "       'numOfBedrooms', 'numOfStories', 'homeImage', 'ZIP', 'Income', 'zip',\n",
      "       'population', 'density'],\n",
      "      dtype='object')\n"
     ]
    }
   ],
   "source": [
    "print(data.columns)"
   ]
  },
  {
   "cell_type": "code",
   "execution_count": 124,
   "id": "87009947ca32ea7b",
   "metadata": {
    "ExecuteTime": {
     "end_time": "2025-03-28T15:41:53.476466Z",
     "start_time": "2025-03-28T15:41:53.469673Z"
    }
   },
   "outputs": [],
   "source": [
    "#there are certain columns which are not meaningful so we will drop them\n",
    "cols_to_drop = ['zpid', 'city', 'streetAddress', 'zipcode', 'description','homeImage','homeType', 'latestPriceSource', 'ZIP', 'zip', 'latest_salemonth','latest_saleyear']"
   ]
  },
  {
   "cell_type": "code",
   "execution_count": 125,
   "id": "49bcc0df29db3262",
   "metadata": {
    "ExecuteTime": {
     "end_time": "2025-03-28T15:41:55.422971Z",
     "start_time": "2025-03-28T15:41:55.405676Z"
    }
   },
   "outputs": [],
   "source": [
    "df = data.drop(columns=cols_to_drop, errors='ignore')"
   ]
  },
  {
   "cell_type": "code",
   "execution_count": 126,
   "id": "a84a72a006cc890c",
   "metadata": {
    "ExecuteTime": {
     "end_time": "2025-03-28T15:41:57.071938Z",
     "start_time": "2025-03-28T15:41:57.059004Z"
    }
   },
   "outputs": [
    {
     "data": {
      "text/plain": [
       "latitude                      0\n",
       "longitude                     0\n",
       "propertyTaxRate               0\n",
       "garageSpaces                  0\n",
       "hasAssociation                0\n",
       "hasCooling                    0\n",
       "hasGarage                     0\n",
       "hasHeating                    0\n",
       "hasSpa                        0\n",
       "hasView                       0\n",
       "parkingSpaces                 0\n",
       "yearBuilt                     0\n",
       "latestPrice                   0\n",
       "numPriceChanges               0\n",
       "latest_saledate               0\n",
       "numOfPhotos                   0\n",
       "numOfAccessibilityFeatures    0\n",
       "numOfAppliances               0\n",
       "numOfParkingFeatures          0\n",
       "numOfPatioAndPorchFeatures    0\n",
       "numOfSecurityFeatures         0\n",
       "numOfWaterfrontFeatures       0\n",
       "numOfWindowFeatures           0\n",
       "numOfCommunityFeatures        0\n",
       "lotSizeSqFt                   0\n",
       "livingAreaSqFt                0\n",
       "numOfPrimarySchools           0\n",
       "numOfElementarySchools        0\n",
       "numOfMiddleSchools            0\n",
       "numOfHighSchools              0\n",
       "avgSchoolDistance             0\n",
       "avgSchoolRating               0\n",
       "avgSchoolSize                 0\n",
       "MedianStudentsPerTeacher      0\n",
       "numOfBathrooms                0\n",
       "numOfBedrooms                 0\n",
       "numOfStories                  0\n",
       "Income                        0\n",
       "population                    0\n",
       "density                       0\n",
       "dtype: int64"
      ]
     },
     "execution_count": 126,
     "metadata": {},
     "output_type": "execute_result"
    }
   ],
   "source": [
    "#check if there is any null value left after remove those columns\n",
    "df.isnull().sum()"
   ]
  },
  {
   "cell_type": "code",
   "execution_count": 127,
   "id": "47e413ea7219d48d",
   "metadata": {
    "ExecuteTime": {
     "end_time": "2025-03-28T16:01:08.009805Z",
     "start_time": "2025-03-28T16:01:07.940710Z"
    }
   },
   "outputs": [
    {
     "data": {
      "text/plain": [
       "np.int64(0)"
      ]
     },
     "execution_count": 127,
     "metadata": {},
     "output_type": "execute_result"
    }
   ],
   "source": [
    "#check if there is any duplicate value\n",
    "df.duplicated().sum()"
   ]
  },
  {
   "cell_type": "markdown",
   "id": "bd42ca39730e061b",
   "metadata": {},
   "source": [
    "At this point, we have dataframe 'df' with all the features"
   ]
  },
  {
   "cell_type": "markdown",
   "id": "ace33af62a5c11c3",
   "metadata": {},
   "source": [
    "### For the next part, we will incorporate macroeconomic factors, which are mortage rate and median list price per square feet from the other 2 datasets"
   ]
  },
  {
   "cell_type": "code",
   "execution_count": 130,
   "id": "391b4d0433fb9158",
   "metadata": {
    "ExecuteTime": {
     "end_time": "2025-03-28T16:49:04.706282Z",
     "start_time": "2025-03-28T16:49:04.692161Z"
    }
   },
   "outputs": [],
   "source": [
    "MTG = pd.read_csv('MORTGAGE30US.csv')\n",
    "MPPSQ = pd.read_csv('MEDLISPRIPERSQUFEE12420.csv')"
   ]
  },
  {
   "cell_type": "code",
   "execution_count": 131,
   "id": "a144c2d26663d746",
   "metadata": {
    "ExecuteTime": {
     "end_time": "2025-03-28T16:49:06.335251Z",
     "start_time": "2025-03-28T16:49:06.260363Z"
    }
   },
   "outputs": [
    {
     "data": {
      "text/plain": [
       "dtype('float64')"
      ]
     },
     "execution_count": 131,
     "metadata": {},
     "output_type": "execute_result"
    }
   ],
   "source": [
    "def parse_obs_date(date_str):\n",
    "    d = str(date_str).strip().split()[0]\n",
    "    if \"/\" in d:\n",
    "        return pd.to_datetime(d, format='%d/%m/%Y', errors='raise')\n",
    "    else:\n",
    "        return pd.to_datetime(d, errors='raise')\n",
    "\n",
    "MTG['observation_date'] = MTG['observation_date'].apply(parse_obs_date)\n",
    "MPPSQ['observation_date'] = MPPSQ['observation_date'].apply(parse_obs_date)\n",
    "MTG['MORTGAGE30US'].dtypes"
   ]
  },
  {
   "cell_type": "code",
   "execution_count": null,
   "id": "60bc893f64dc8aa0",
   "metadata": {},
   "outputs": [],
   "source": [
    "df['latest_saledate'] = pd.to_datetime(df['latest_saledate'], errors='coerce')\n",
    "df = df.sort_values('latest_saledate')"
   ]
  },
  {
   "cell_type": "code",
   "execution_count": 140,
   "id": "972c66ef4a7f94ff",
   "metadata": {
    "ExecuteTime": {
     "end_time": "2025-03-28T16:55:08.006342Z",
     "start_time": "2025-03-28T16:55:07.974500Z"
    }
   },
   "outputs": [
    {
     "data": {
      "text/plain": [
       "Index(['latitude', 'longitude', 'propertyTaxRate', 'garageSpaces',\n",
       "       'hasAssociation', 'hasCooling', 'hasGarage', 'hasHeating', 'hasSpa',\n",
       "       'hasView', 'parkingSpaces', 'yearBuilt', 'latestPrice',\n",
       "       'numPriceChanges', 'latest_saledate', 'numOfPhotos',\n",
       "       'numOfAccessibilityFeatures', 'numOfAppliances', 'numOfParkingFeatures',\n",
       "       'numOfPatioAndPorchFeatures', 'numOfSecurityFeatures',\n",
       "       'numOfWaterfrontFeatures', 'numOfWindowFeatures',\n",
       "       'numOfCommunityFeatures', 'lotSizeSqFt', 'livingAreaSqFt',\n",
       "       'numOfPrimarySchools', 'numOfElementarySchools', 'numOfMiddleSchools',\n",
       "       'numOfHighSchools', 'avgSchoolDistance', 'avgSchoolRating',\n",
       "       'avgSchoolSize', 'MedianStudentsPerTeacher', 'numOfBathrooms',\n",
       "       'numOfBedrooms', 'numOfStories', 'Income', 'population', 'density',\n",
       "       'MORTGAGE30US'],\n",
       "      dtype='object')"
      ]
     },
     "execution_count": 140,
     "metadata": {},
     "output_type": "execute_result"
    }
   ],
   "source": [
    "#merge mortgate rate\n",
    "MTG['observation_date'] = pd.to_datetime(MTG['observation_date'], format='%d/%m/%Y', errors='coerce')\n",
    "MTG = MTG.sort_values('observation_date')\n",
    "\n",
    "# Merge using asof so that each sale date gets the most recent MTG rate available\n",
    "df_2 = pd.merge_asof(df, MTG, left_on='latest_saledate', right_on='observation_date', direction='backward')\n",
    "\n",
    "# Optional: Remove the duplicate 'date' column if no longer need it\n",
    "df_2.drop(columns=['observation_date'], inplace=True)\n",
    "df_2.columns"
   ]
  },
  {
   "cell_type": "code",
   "execution_count": 141,
   "id": "1c600f85eac4bdf4",
   "metadata": {
    "ExecuteTime": {
     "end_time": "2025-03-28T16:55:11.002235Z",
     "start_time": "2025-03-28T16:55:10.966482Z"
    }
   },
   "outputs": [
    {
     "data": {
      "text/plain": [
       "Index(['latitude', 'longitude', 'propertyTaxRate', 'garageSpaces',\n",
       "       'hasAssociation', 'hasCooling', 'hasGarage', 'hasHeating', 'hasSpa',\n",
       "       'hasView', 'parkingSpaces', 'yearBuilt', 'latestPrice',\n",
       "       'numPriceChanges', 'latest_saledate', 'numOfPhotos',\n",
       "       'numOfAccessibilityFeatures', 'numOfAppliances', 'numOfParkingFeatures',\n",
       "       'numOfPatioAndPorchFeatures', 'numOfSecurityFeatures',\n",
       "       'numOfWaterfrontFeatures', 'numOfWindowFeatures',\n",
       "       'numOfCommunityFeatures', 'lotSizeSqFt', 'livingAreaSqFt',\n",
       "       'numOfPrimarySchools', 'numOfElementarySchools', 'numOfMiddleSchools',\n",
       "       'numOfHighSchools', 'avgSchoolDistance', 'avgSchoolRating',\n",
       "       'avgSchoolSize', 'MedianStudentsPerTeacher', 'numOfBathrooms',\n",
       "       'numOfBedrooms', 'numOfStories', 'Income', 'population', 'density',\n",
       "       'MORTGAGE30US', 'MEDLISPRIPERSQUFEE12420'],\n",
       "      dtype='object')"
      ]
     },
     "execution_count": 141,
     "metadata": {},
     "output_type": "execute_result"
    }
   ],
   "source": [
    "#merge median list price\n",
    "MPPSQ['observation_date'] = pd.to_datetime(MPPSQ['observation_date'], format='%d/%m/%Y', errors='coerce')\n",
    "MPPSQ = MPPSQ.sort_values('observation_date')\n",
    "\n",
    "# Merge using asof so that each sale date gets the most recent MPPSQ available\n",
    "df_2 = pd.merge_asof(df_2, MPPSQ, left_on='latest_saledate', right_on='observation_date', direction='backward')\n",
    "\n",
    "df_2.drop(columns=['observation_date'], inplace=True)\n",
    "df_2.columns"
   ]
  },
  {
   "cell_type": "markdown",
   "id": "a8f1961a708834d0",
   "metadata": {},
   "source": [
    "At this point, we have a complete dataset 'df_2' that can be used for further development. "
   ]
  }
 ],
 "metadata": {},
 "nbformat": 4,
 "nbformat_minor": 5
}

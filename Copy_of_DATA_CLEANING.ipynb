{
  "cells": [
    {
      "cell_type": "markdown",
      "metadata": {
        "id": "view-in-github",
        "colab_type": "text"
      },
      "source": [
        "<a href=\"https://colab.research.google.com/github/Shahahaha11/LION_DEN/blob/Linh's-Branch/Copy_of_DATA_CLEANING.ipynb\" target=\"_parent\"><img src=\"https://colab.research.google.com/assets/colab-badge.svg\" alt=\"Open In Colab\"/></a>"
      ]
    },
    {
      "cell_type": "markdown",
      "metadata": {
        "id": "S2HogASqLMmF"
      },
      "source": [
        "TESTING GEOGRAPHICALLY WEIGHTED REGRESSION . Fotheringham, Brunsdon & Charlton (2003)"
      ]
    },
    {
      "cell_type": "code",
      "source": [
        "import pandas as pd\n",
        "import numpy as np\n",
        "file_path= \"/content/drive/MyDrive/lions_den_data/austinHousingData.csv\"\n",
        "data = pd.read_csv(file_path)"
      ],
      "metadata": {
        "id": "tqiP8psBBRuc"
      },
      "execution_count": 2,
      "outputs": []
    },
    {
      "cell_type": "code",
      "source": [
        "from google.colab import drive\n",
        "drive.mount('/content/drive')"
      ],
      "metadata": {
        "colab": {
          "base_uri": "https://localhost:8080/"
        },
        "id": "wEYNqaxk7JS_",
        "outputId": "9ecf9eb2-a27e-4836-8b73-6aef65679c18"
      },
      "execution_count": null,
      "outputs": [
        {
          "output_type": "stream",
          "name": "stdout",
          "text": [
            "Mounted at /content/drive\n"
          ]
        }
      ]
    },
    {
      "cell_type": "code",
      "source": [
        "#USELESS FEATURES ## BUT WE DROP \"city\" after using it. ## no dropping yet\n",
        "useless_features= ['zipcode','zpid', 'city', 'streetAddress', 'zipcode', 'description','homeImage','homeType', 'latestPriceSource']"
      ],
      "metadata": {
        "id": "tzJt_pz9jnVE"
      },
      "execution_count": 3,
      "outputs": []
    },
    {
      "cell_type": "code",
      "source": [
        "###################### NEW VARIABLES #################"
      ],
      "metadata": {
        "id": "-uV1cC8MkpsR"
      },
      "execution_count": 4,
      "outputs": []
    },
    {
      "cell_type": "code",
      "source": [
        "data['zipcode'].nunique()"
      ],
      "metadata": {
        "colab": {
          "base_uri": "https://localhost:8080/"
        },
        "id": "q7ltFt_-koYb",
        "outputId": "3e411fea-bf25-4b08-cc79-8b4dd206396e"
      },
      "execution_count": 5,
      "outputs": [
        {
          "output_type": "execute_result",
          "data": {
            "text/plain": [
              "48"
            ]
          },
          "metadata": {},
          "execution_count": 5
        }
      ]
    },
    {
      "cell_type": "code",
      "source": [
        "zp = pd.read_csv(\"/content/drive/MyDrive/lions_den_data/uszips.csv\")\n",
        "zp.tail()"
      ],
      "metadata": {
        "colab": {
          "base_uri": "https://localhost:8080/",
          "height": 295
        },
        "id": "7PFwfEiUkyj5",
        "outputId": "8d0b28d3-8731-4974-e574-f66c52a46ba2"
      },
      "execution_count": 7,
      "outputs": [
        {
          "output_type": "execute_result",
          "data": {
            "text/plain": [
              "         zip       lat        lng         city state_id state_name  zcta  \\\n",
              "33778  99923  55.98043 -130.03803        Hyder       AK     Alaska  True   \n",
              "33779  99925  55.55398 -132.96276      Klawock       AK     Alaska  True   \n",
              "33780  99926  55.12617 -131.48928   Metlakatla       AK     Alaska  True   \n",
              "33781  99927  56.33305 -133.60044  Point Baker       AK     Alaska  True   \n",
              "33782  99929  56.36089 -132.00635     Wrangell       AK     Alaska  True   \n",
              "\n",
              "       parent_zcta  population  density  county_fips            county_name  \\\n",
              "33778          NaN        25.0      0.6         2198  Prince of Wales-Hyder   \n",
              "33779          NaN       854.0      6.1         2198  Prince of Wales-Hyder   \n",
              "33780          NaN      1385.0      4.0         2198  Prince of Wales-Hyder   \n",
              "33781          NaN        18.0      1.5         2198  Prince of Wales-Hyder   \n",
              "33782          NaN      2105.0      0.3         2275               Wrangell   \n",
              "\n",
              "       county_weights       county_names_all county_fips_all  imprecise  \\\n",
              "33778  {\"02198\": 100}  Prince of Wales-Hyder           02198      False   \n",
              "33779  {\"02198\": 100}  Prince of Wales-Hyder           02198      False   \n",
              "33780  {\"02198\": 100}  Prince of Wales-Hyder           02198      False   \n",
              "33781  {\"02198\": 100}  Prince of Wales-Hyder           02198      False   \n",
              "33782  {\"02275\": 100}               Wrangell           02275      False   \n",
              "\n",
              "       military            timezone  \n",
              "33778     False       America/Sitka  \n",
              "33779     False       America/Sitka  \n",
              "33780     False  America/Metlakatla  \n",
              "33781     False       America/Sitka  \n",
              "33782     False       America/Sitka  "
            ],
            "text/html": [
              "\n",
              "  <div id=\"df-364ff0c1-7f37-4a9a-81ba-d4fea571e0b3\" class=\"colab-df-container\">\n",
              "    <div>\n",
              "<style scoped>\n",
              "    .dataframe tbody tr th:only-of-type {\n",
              "        vertical-align: middle;\n",
              "    }\n",
              "\n",
              "    .dataframe tbody tr th {\n",
              "        vertical-align: top;\n",
              "    }\n",
              "\n",
              "    .dataframe thead th {\n",
              "        text-align: right;\n",
              "    }\n",
              "</style>\n",
              "<table border=\"1\" class=\"dataframe\">\n",
              "  <thead>\n",
              "    <tr style=\"text-align: right;\">\n",
              "      <th></th>\n",
              "      <th>zip</th>\n",
              "      <th>lat</th>\n",
              "      <th>lng</th>\n",
              "      <th>city</th>\n",
              "      <th>state_id</th>\n",
              "      <th>state_name</th>\n",
              "      <th>zcta</th>\n",
              "      <th>parent_zcta</th>\n",
              "      <th>population</th>\n",
              "      <th>density</th>\n",
              "      <th>county_fips</th>\n",
              "      <th>county_name</th>\n",
              "      <th>county_weights</th>\n",
              "      <th>county_names_all</th>\n",
              "      <th>county_fips_all</th>\n",
              "      <th>imprecise</th>\n",
              "      <th>military</th>\n",
              "      <th>timezone</th>\n",
              "    </tr>\n",
              "  </thead>\n",
              "  <tbody>\n",
              "    <tr>\n",
              "      <th>33778</th>\n",
              "      <td>99923</td>\n",
              "      <td>55.98043</td>\n",
              "      <td>-130.03803</td>\n",
              "      <td>Hyder</td>\n",
              "      <td>AK</td>\n",
              "      <td>Alaska</td>\n",
              "      <td>True</td>\n",
              "      <td>NaN</td>\n",
              "      <td>25.0</td>\n",
              "      <td>0.6</td>\n",
              "      <td>2198</td>\n",
              "      <td>Prince of Wales-Hyder</td>\n",
              "      <td>{\"02198\": 100}</td>\n",
              "      <td>Prince of Wales-Hyder</td>\n",
              "      <td>02198</td>\n",
              "      <td>False</td>\n",
              "      <td>False</td>\n",
              "      <td>America/Sitka</td>\n",
              "    </tr>\n",
              "    <tr>\n",
              "      <th>33779</th>\n",
              "      <td>99925</td>\n",
              "      <td>55.55398</td>\n",
              "      <td>-132.96276</td>\n",
              "      <td>Klawock</td>\n",
              "      <td>AK</td>\n",
              "      <td>Alaska</td>\n",
              "      <td>True</td>\n",
              "      <td>NaN</td>\n",
              "      <td>854.0</td>\n",
              "      <td>6.1</td>\n",
              "      <td>2198</td>\n",
              "      <td>Prince of Wales-Hyder</td>\n",
              "      <td>{\"02198\": 100}</td>\n",
              "      <td>Prince of Wales-Hyder</td>\n",
              "      <td>02198</td>\n",
              "      <td>False</td>\n",
              "      <td>False</td>\n",
              "      <td>America/Sitka</td>\n",
              "    </tr>\n",
              "    <tr>\n",
              "      <th>33780</th>\n",
              "      <td>99926</td>\n",
              "      <td>55.12617</td>\n",
              "      <td>-131.48928</td>\n",
              "      <td>Metlakatla</td>\n",
              "      <td>AK</td>\n",
              "      <td>Alaska</td>\n",
              "      <td>True</td>\n",
              "      <td>NaN</td>\n",
              "      <td>1385.0</td>\n",
              "      <td>4.0</td>\n",
              "      <td>2198</td>\n",
              "      <td>Prince of Wales-Hyder</td>\n",
              "      <td>{\"02198\": 100}</td>\n",
              "      <td>Prince of Wales-Hyder</td>\n",
              "      <td>02198</td>\n",
              "      <td>False</td>\n",
              "      <td>False</td>\n",
              "      <td>America/Metlakatla</td>\n",
              "    </tr>\n",
              "    <tr>\n",
              "      <th>33781</th>\n",
              "      <td>99927</td>\n",
              "      <td>56.33305</td>\n",
              "      <td>-133.60044</td>\n",
              "      <td>Point Baker</td>\n",
              "      <td>AK</td>\n",
              "      <td>Alaska</td>\n",
              "      <td>True</td>\n",
              "      <td>NaN</td>\n",
              "      <td>18.0</td>\n",
              "      <td>1.5</td>\n",
              "      <td>2198</td>\n",
              "      <td>Prince of Wales-Hyder</td>\n",
              "      <td>{\"02198\": 100}</td>\n",
              "      <td>Prince of Wales-Hyder</td>\n",
              "      <td>02198</td>\n",
              "      <td>False</td>\n",
              "      <td>False</td>\n",
              "      <td>America/Sitka</td>\n",
              "    </tr>\n",
              "    <tr>\n",
              "      <th>33782</th>\n",
              "      <td>99929</td>\n",
              "      <td>56.36089</td>\n",
              "      <td>-132.00635</td>\n",
              "      <td>Wrangell</td>\n",
              "      <td>AK</td>\n",
              "      <td>Alaska</td>\n",
              "      <td>True</td>\n",
              "      <td>NaN</td>\n",
              "      <td>2105.0</td>\n",
              "      <td>0.3</td>\n",
              "      <td>2275</td>\n",
              "      <td>Wrangell</td>\n",
              "      <td>{\"02275\": 100}</td>\n",
              "      <td>Wrangell</td>\n",
              "      <td>02275</td>\n",
              "      <td>False</td>\n",
              "      <td>False</td>\n",
              "      <td>America/Sitka</td>\n",
              "    </tr>\n",
              "  </tbody>\n",
              "</table>\n",
              "</div>\n",
              "    <div class=\"colab-df-buttons\">\n",
              "\n",
              "  <div class=\"colab-df-container\">\n",
              "    <button class=\"colab-df-convert\" onclick=\"convertToInteractive('df-364ff0c1-7f37-4a9a-81ba-d4fea571e0b3')\"\n",
              "            title=\"Convert this dataframe to an interactive table.\"\n",
              "            style=\"display:none;\">\n",
              "\n",
              "  <svg xmlns=\"http://www.w3.org/2000/svg\" height=\"24px\" viewBox=\"0 -960 960 960\">\n",
              "    <path d=\"M120-120v-720h720v720H120Zm60-500h600v-160H180v160Zm220 220h160v-160H400v160Zm0 220h160v-160H400v160ZM180-400h160v-160H180v160Zm440 0h160v-160H620v160ZM180-180h160v-160H180v160Zm440 0h160v-160H620v160Z\"/>\n",
              "  </svg>\n",
              "    </button>\n",
              "\n",
              "  <style>\n",
              "    .colab-df-container {\n",
              "      display:flex;\n",
              "      gap: 12px;\n",
              "    }\n",
              "\n",
              "    .colab-df-convert {\n",
              "      background-color: #E8F0FE;\n",
              "      border: none;\n",
              "      border-radius: 50%;\n",
              "      cursor: pointer;\n",
              "      display: none;\n",
              "      fill: #1967D2;\n",
              "      height: 32px;\n",
              "      padding: 0 0 0 0;\n",
              "      width: 32px;\n",
              "    }\n",
              "\n",
              "    .colab-df-convert:hover {\n",
              "      background-color: #E2EBFA;\n",
              "      box-shadow: 0px 1px 2px rgba(60, 64, 67, 0.3), 0px 1px 3px 1px rgba(60, 64, 67, 0.15);\n",
              "      fill: #174EA6;\n",
              "    }\n",
              "\n",
              "    .colab-df-buttons div {\n",
              "      margin-bottom: 4px;\n",
              "    }\n",
              "\n",
              "    [theme=dark] .colab-df-convert {\n",
              "      background-color: #3B4455;\n",
              "      fill: #D2E3FC;\n",
              "    }\n",
              "\n",
              "    [theme=dark] .colab-df-convert:hover {\n",
              "      background-color: #434B5C;\n",
              "      box-shadow: 0px 1px 3px 1px rgba(0, 0, 0, 0.15);\n",
              "      filter: drop-shadow(0px 1px 2px rgba(0, 0, 0, 0.3));\n",
              "      fill: #FFFFFF;\n",
              "    }\n",
              "  </style>\n",
              "\n",
              "    <script>\n",
              "      const buttonEl =\n",
              "        document.querySelector('#df-364ff0c1-7f37-4a9a-81ba-d4fea571e0b3 button.colab-df-convert');\n",
              "      buttonEl.style.display =\n",
              "        google.colab.kernel.accessAllowed ? 'block' : 'none';\n",
              "\n",
              "      async function convertToInteractive(key) {\n",
              "        const element = document.querySelector('#df-364ff0c1-7f37-4a9a-81ba-d4fea571e0b3');\n",
              "        const dataTable =\n",
              "          await google.colab.kernel.invokeFunction('convertToInteractive',\n",
              "                                                    [key], {});\n",
              "        if (!dataTable) return;\n",
              "\n",
              "        const docLinkHtml = 'Like what you see? Visit the ' +\n",
              "          '<a target=\"_blank\" href=https://colab.research.google.com/notebooks/data_table.ipynb>data table notebook</a>'\n",
              "          + ' to learn more about interactive tables.';\n",
              "        element.innerHTML = '';\n",
              "        dataTable['output_type'] = 'display_data';\n",
              "        await google.colab.output.renderOutput(dataTable, element);\n",
              "        const docLink = document.createElement('div');\n",
              "        docLink.innerHTML = docLinkHtml;\n",
              "        element.appendChild(docLink);\n",
              "      }\n",
              "    </script>\n",
              "  </div>\n",
              "\n",
              "\n",
              "<div id=\"df-b23a0bbb-59fa-499b-9dd0-ec46ea50816b\">\n",
              "  <button class=\"colab-df-quickchart\" onclick=\"quickchart('df-b23a0bbb-59fa-499b-9dd0-ec46ea50816b')\"\n",
              "            title=\"Suggest charts\"\n",
              "            style=\"display:none;\">\n",
              "\n",
              "<svg xmlns=\"http://www.w3.org/2000/svg\" height=\"24px\"viewBox=\"0 0 24 24\"\n",
              "     width=\"24px\">\n",
              "    <g>\n",
              "        <path d=\"M19 3H5c-1.1 0-2 .9-2 2v14c0 1.1.9 2 2 2h14c1.1 0 2-.9 2-2V5c0-1.1-.9-2-2-2zM9 17H7v-7h2v7zm4 0h-2V7h2v10zm4 0h-2v-4h2v4z\"/>\n",
              "    </g>\n",
              "</svg>\n",
              "  </button>\n",
              "\n",
              "<style>\n",
              "  .colab-df-quickchart {\n",
              "      --bg-color: #E8F0FE;\n",
              "      --fill-color: #1967D2;\n",
              "      --hover-bg-color: #E2EBFA;\n",
              "      --hover-fill-color: #174EA6;\n",
              "      --disabled-fill-color: #AAA;\n",
              "      --disabled-bg-color: #DDD;\n",
              "  }\n",
              "\n",
              "  [theme=dark] .colab-df-quickchart {\n",
              "      --bg-color: #3B4455;\n",
              "      --fill-color: #D2E3FC;\n",
              "      --hover-bg-color: #434B5C;\n",
              "      --hover-fill-color: #FFFFFF;\n",
              "      --disabled-bg-color: #3B4455;\n",
              "      --disabled-fill-color: #666;\n",
              "  }\n",
              "\n",
              "  .colab-df-quickchart {\n",
              "    background-color: var(--bg-color);\n",
              "    border: none;\n",
              "    border-radius: 50%;\n",
              "    cursor: pointer;\n",
              "    display: none;\n",
              "    fill: var(--fill-color);\n",
              "    height: 32px;\n",
              "    padding: 0;\n",
              "    width: 32px;\n",
              "  }\n",
              "\n",
              "  .colab-df-quickchart:hover {\n",
              "    background-color: var(--hover-bg-color);\n",
              "    box-shadow: 0 1px 2px rgba(60, 64, 67, 0.3), 0 1px 3px 1px rgba(60, 64, 67, 0.15);\n",
              "    fill: var(--button-hover-fill-color);\n",
              "  }\n",
              "\n",
              "  .colab-df-quickchart-complete:disabled,\n",
              "  .colab-df-quickchart-complete:disabled:hover {\n",
              "    background-color: var(--disabled-bg-color);\n",
              "    fill: var(--disabled-fill-color);\n",
              "    box-shadow: none;\n",
              "  }\n",
              "\n",
              "  .colab-df-spinner {\n",
              "    border: 2px solid var(--fill-color);\n",
              "    border-color: transparent;\n",
              "    border-bottom-color: var(--fill-color);\n",
              "    animation:\n",
              "      spin 1s steps(1) infinite;\n",
              "  }\n",
              "\n",
              "  @keyframes spin {\n",
              "    0% {\n",
              "      border-color: transparent;\n",
              "      border-bottom-color: var(--fill-color);\n",
              "      border-left-color: var(--fill-color);\n",
              "    }\n",
              "    20% {\n",
              "      border-color: transparent;\n",
              "      border-left-color: var(--fill-color);\n",
              "      border-top-color: var(--fill-color);\n",
              "    }\n",
              "    30% {\n",
              "      border-color: transparent;\n",
              "      border-left-color: var(--fill-color);\n",
              "      border-top-color: var(--fill-color);\n",
              "      border-right-color: var(--fill-color);\n",
              "    }\n",
              "    40% {\n",
              "      border-color: transparent;\n",
              "      border-right-color: var(--fill-color);\n",
              "      border-top-color: var(--fill-color);\n",
              "    }\n",
              "    60% {\n",
              "      border-color: transparent;\n",
              "      border-right-color: var(--fill-color);\n",
              "    }\n",
              "    80% {\n",
              "      border-color: transparent;\n",
              "      border-right-color: var(--fill-color);\n",
              "      border-bottom-color: var(--fill-color);\n",
              "    }\n",
              "    90% {\n",
              "      border-color: transparent;\n",
              "      border-bottom-color: var(--fill-color);\n",
              "    }\n",
              "  }\n",
              "</style>\n",
              "\n",
              "  <script>\n",
              "    async function quickchart(key) {\n",
              "      const quickchartButtonEl =\n",
              "        document.querySelector('#' + key + ' button');\n",
              "      quickchartButtonEl.disabled = true;  // To prevent multiple clicks.\n",
              "      quickchartButtonEl.classList.add('colab-df-spinner');\n",
              "      try {\n",
              "        const charts = await google.colab.kernel.invokeFunction(\n",
              "            'suggestCharts', [key], {});\n",
              "      } catch (error) {\n",
              "        console.error('Error during call to suggestCharts:', error);\n",
              "      }\n",
              "      quickchartButtonEl.classList.remove('colab-df-spinner');\n",
              "      quickchartButtonEl.classList.add('colab-df-quickchart-complete');\n",
              "    }\n",
              "    (() => {\n",
              "      let quickchartButtonEl =\n",
              "        document.querySelector('#df-b23a0bbb-59fa-499b-9dd0-ec46ea50816b button');\n",
              "      quickchartButtonEl.style.display =\n",
              "        google.colab.kernel.accessAllowed ? 'block' : 'none';\n",
              "    })();\n",
              "  </script>\n",
              "</div>\n",
              "\n",
              "    </div>\n",
              "  </div>\n"
            ],
            "application/vnd.google.colaboratory.intrinsic+json": {
              "type": "dataframe",
              "summary": "{\n  \"name\": \"zp\",\n  \"rows\": 5,\n  \"fields\": [\n    {\n      \"column\": \"zip\",\n      \"properties\": {\n        \"dtype\": \"number\",\n        \"std\": 2,\n        \"min\": 99923,\n        \"max\": 99929,\n        \"num_unique_values\": 5,\n        \"samples\": [\n          99925,\n          99929,\n          99926\n        ],\n        \"semantic_type\": \"\",\n        \"description\": \"\"\n      }\n    },\n    {\n      \"column\": \"lat\",\n      \"properties\": {\n        \"dtype\": \"number\",\n        \"std\": 0.5293228463612715,\n        \"min\": 55.12617,\n        \"max\": 56.36089,\n        \"num_unique_values\": 5,\n        \"samples\": [\n          55.55398,\n          56.36089,\n          55.12617\n        ],\n        \"semantic_type\": \"\",\n        \"description\": \"\"\n      }\n    },\n    {\n      \"column\": \"lng\",\n      \"properties\": {\n        \"dtype\": \"number\",\n        \"std\": 1.378100156109853,\n        \"min\": -133.60044,\n        \"max\": -130.03803,\n        \"num_unique_values\": 5,\n        \"samples\": [\n          -132.96276,\n          -132.00635,\n          -131.48928\n        ],\n        \"semantic_type\": \"\",\n        \"description\": \"\"\n      }\n    },\n    {\n      \"column\": \"city\",\n      \"properties\": {\n        \"dtype\": \"string\",\n        \"num_unique_values\": 5,\n        \"samples\": [\n          \"Klawock\",\n          \"Wrangell\",\n          \"Metlakatla\"\n        ],\n        \"semantic_type\": \"\",\n        \"description\": \"\"\n      }\n    },\n    {\n      \"column\": \"state_id\",\n      \"properties\": {\n        \"dtype\": \"category\",\n        \"num_unique_values\": 1,\n        \"samples\": [\n          \"AK\"\n        ],\n        \"semantic_type\": \"\",\n        \"description\": \"\"\n      }\n    },\n    {\n      \"column\": \"state_name\",\n      \"properties\": {\n        \"dtype\": \"category\",\n        \"num_unique_values\": 1,\n        \"samples\": [\n          \"Alaska\"\n        ],\n        \"semantic_type\": \"\",\n        \"description\": \"\"\n      }\n    },\n    {\n      \"column\": \"zcta\",\n      \"properties\": {\n        \"dtype\": \"boolean\",\n        \"num_unique_values\": 1,\n        \"samples\": [\n          true\n        ],\n        \"semantic_type\": \"\",\n        \"description\": \"\"\n      }\n    },\n    {\n      \"column\": \"parent_zcta\",\n      \"properties\": {\n        \"dtype\": \"number\",\n        \"std\": null,\n        \"min\": null,\n        \"max\": null,\n        \"num_unique_values\": 0,\n        \"samples\": [],\n        \"semantic_type\": \"\",\n        \"description\": \"\"\n      }\n    },\n    {\n      \"column\": \"population\",\n      \"properties\": {\n        \"dtype\": \"number\",\n        \"std\": 898.6602806400202,\n        \"min\": 18.0,\n        \"max\": 2105.0,\n        \"num_unique_values\": 5,\n        \"samples\": [],\n        \"semantic_type\": \"\",\n        \"description\": \"\"\n      }\n    },\n    {\n      \"column\": \"density\",\n      \"properties\": {\n        \"dtype\": \"number\",\n        \"std\": 2.482941803587027,\n        \"min\": 0.3,\n        \"max\": 6.1,\n        \"num_unique_values\": 5,\n        \"samples\": [],\n        \"semantic_type\": \"\",\n        \"description\": \"\"\n      }\n    },\n    {\n      \"column\": \"county_fips\",\n      \"properties\": {\n        \"dtype\": \"number\",\n        \"std\": 34,\n        \"min\": 2198,\n        \"max\": 2275,\n        \"num_unique_values\": 2,\n        \"samples\": [],\n        \"semantic_type\": \"\",\n        \"description\": \"\"\n      }\n    },\n    {\n      \"column\": \"county_name\",\n      \"properties\": {\n        \"dtype\": \"category\",\n        \"num_unique_values\": 2,\n        \"samples\": [],\n        \"semantic_type\": \"\",\n        \"description\": \"\"\n      }\n    },\n    {\n      \"column\": \"county_weights\",\n      \"properties\": {\n        \"dtype\": \"category\",\n        \"num_unique_values\": 2,\n        \"samples\": [],\n        \"semantic_type\": \"\",\n        \"description\": \"\"\n      }\n    },\n    {\n      \"column\": \"county_names_all\",\n      \"properties\": {\n        \"dtype\": \"category\",\n        \"num_unique_values\": 2,\n        \"samples\": [],\n        \"semantic_type\": \"\",\n        \"description\": \"\"\n      }\n    },\n    {\n      \"column\": \"county_fips_all\",\n      \"properties\": {\n        \"dtype\": \"category\",\n        \"num_unique_values\": 2,\n        \"samples\": [],\n        \"semantic_type\": \"\",\n        \"description\": \"\"\n      }\n    },\n    {\n      \"column\": \"imprecise\",\n      \"properties\": {\n        \"dtype\": \"boolean\",\n        \"num_unique_values\": 1,\n        \"samples\": [],\n        \"semantic_type\": \"\",\n        \"description\": \"\"\n      }\n    },\n    {\n      \"column\": \"military\",\n      \"properties\": {\n        \"dtype\": \"boolean\",\n        \"num_unique_values\": 1,\n        \"samples\": [],\n        \"semantic_type\": \"\",\n        \"description\": \"\"\n      }\n    },\n    {\n      \"column\": \"timezone\",\n      \"properties\": {\n        \"dtype\": \"category\",\n        \"num_unique_values\": 2,\n        \"samples\": [],\n        \"semantic_type\": \"\",\n        \"description\": \"\"\n      }\n    }\n  ]\n}"
            }
          },
          "metadata": {},
          "execution_count": 7
        }
      ]
    },
    {
      "cell_type": "code",
      "source": [
        "data['latest_saledate'].dtypes"
      ],
      "metadata": {
        "colab": {
          "base_uri": "https://localhost:8080/"
        },
        "id": "rOdPv40EN4Ej",
        "outputId": "158841b7-0f57-4a92-876e-2aaf9fdbdb0f"
      },
      "execution_count": 8,
      "outputs": [
        {
          "output_type": "execute_result",
          "data": {
            "text/plain": [
              "dtype('O')"
            ]
          },
          "metadata": {},
          "execution_count": 8
        }
      ]
    },
    {
      "cell_type": "code",
      "source": [
        "data['latest_saledate']"
      ],
      "metadata": {
        "colab": {
          "base_uri": "https://localhost:8080/",
          "height": 458
        },
        "id": "MKemeuMG03zO",
        "outputId": "b1e18632-efdc-4d2b-9e1e-1f9fa9d3bfa0"
      },
      "execution_count": 9,
      "outputs": [
        {
          "output_type": "execute_result",
          "data": {
            "text/plain": [
              "0        02/09/2019\n",
              "1        13/10/2020\n",
              "2        31/07/2019\n",
              "3        08/08/2018\n",
              "4        31/10/2018\n",
              "            ...    \n",
              "15166    10/12/2020\n",
              "15167    16/12/2020\n",
              "15168    27/01/2021\n",
              "15169    07/08/2019\n",
              "15170    23/01/2021\n",
              "Name: latest_saledate, Length: 15171, dtype: object"
            ],
            "text/html": [
              "<div>\n",
              "<style scoped>\n",
              "    .dataframe tbody tr th:only-of-type {\n",
              "        vertical-align: middle;\n",
              "    }\n",
              "\n",
              "    .dataframe tbody tr th {\n",
              "        vertical-align: top;\n",
              "    }\n",
              "\n",
              "    .dataframe thead th {\n",
              "        text-align: right;\n",
              "    }\n",
              "</style>\n",
              "<table border=\"1\" class=\"dataframe\">\n",
              "  <thead>\n",
              "    <tr style=\"text-align: right;\">\n",
              "      <th></th>\n",
              "      <th>latest_saledate</th>\n",
              "    </tr>\n",
              "  </thead>\n",
              "  <tbody>\n",
              "    <tr>\n",
              "      <th>0</th>\n",
              "      <td>02/09/2019</td>\n",
              "    </tr>\n",
              "    <tr>\n",
              "      <th>1</th>\n",
              "      <td>13/10/2020</td>\n",
              "    </tr>\n",
              "    <tr>\n",
              "      <th>2</th>\n",
              "      <td>31/07/2019</td>\n",
              "    </tr>\n",
              "    <tr>\n",
              "      <th>3</th>\n",
              "      <td>08/08/2018</td>\n",
              "    </tr>\n",
              "    <tr>\n",
              "      <th>4</th>\n",
              "      <td>31/10/2018</td>\n",
              "    </tr>\n",
              "    <tr>\n",
              "      <th>...</th>\n",
              "      <td>...</td>\n",
              "    </tr>\n",
              "    <tr>\n",
              "      <th>15166</th>\n",
              "      <td>10/12/2020</td>\n",
              "    </tr>\n",
              "    <tr>\n",
              "      <th>15167</th>\n",
              "      <td>16/12/2020</td>\n",
              "    </tr>\n",
              "    <tr>\n",
              "      <th>15168</th>\n",
              "      <td>27/01/2021</td>\n",
              "    </tr>\n",
              "    <tr>\n",
              "      <th>15169</th>\n",
              "      <td>07/08/2019</td>\n",
              "    </tr>\n",
              "    <tr>\n",
              "      <th>15170</th>\n",
              "      <td>23/01/2021</td>\n",
              "    </tr>\n",
              "  </tbody>\n",
              "</table>\n",
              "<p>15171 rows × 1 columns</p>\n",
              "</div><br><label><b>dtype:</b> object</label>"
            ]
          },
          "metadata": {},
          "execution_count": 9
        }
      ]
    },
    {
      "cell_type": "code",
      "source": [
        "data['latest_saledate'] = data['latest_saledate'].str.strip()\n",
        "data['latest_saledate'] = pd.to_datetime(data['latest_saledate'], format='%d/%m/%Y', errors='coerce')\n",
        "\n",
        "print(data['latest_saledate'].isna().sum())"
      ],
      "metadata": {
        "id": "5nA1oHU9OagQ",
        "colab": {
          "base_uri": "https://localhost:8080/"
        },
        "outputId": "363324fb-f420-4f4b-e628-a6bd34dba4aa"
      },
      "execution_count": 10,
      "outputs": [
        {
          "output_type": "stream",
          "name": "stdout",
          "text": [
            "0\n"
          ]
        }
      ]
    },
    {
      "cell_type": "code",
      "source": [
        "# Data inspection\n",
        "print(f\"integer:{data.select_dtypes(include='integer').columns}\")\n",
        "print(f\"object:{data.select_dtypes(include='object').columns}\")\n",
        "print(f\"bools:{data.select_dtypes(include='bool').columns}\")"
      ],
      "metadata": {
        "colab": {
          "base_uri": "https://localhost:8080/"
        },
        "id": "VHRU-ch5iOG0",
        "outputId": "0250c40d-3977-4494-be0d-d5729b6f0dc3"
      },
      "execution_count": 11,
      "outputs": [
        {
          "output_type": "stream",
          "name": "stdout",
          "text": [
            "integer:Index(['zpid', 'zipcode', 'garageSpaces', 'parkingSpaces', 'yearBuilt',\n",
            "       'latestPrice', 'numPriceChanges', 'latest_salemonth', 'latest_saleyear',\n",
            "       'numOfPhotos', 'numOfAccessibilityFeatures', 'numOfAppliances',\n",
            "       'numOfParkingFeatures', 'numOfPatioAndPorchFeatures',\n",
            "       'numOfSecurityFeatures', 'numOfWaterfrontFeatures',\n",
            "       'numOfWindowFeatures', 'numOfCommunityFeatures', 'livingAreaSqFt',\n",
            "       'numOfPrimarySchools', 'numOfElementarySchools', 'numOfMiddleSchools',\n",
            "       'numOfHighSchools', 'avgSchoolSize', 'MedianStudentsPerTeacher',\n",
            "       'numOfBedrooms', 'numOfStories'],\n",
            "      dtype='object')\n",
            "object:Index(['city', 'streetAddress', 'description', 'homeType', 'latestPriceSource',\n",
            "       'homeImage'],\n",
            "      dtype='object')\n",
            "bools:Index(['hasAssociation', 'hasCooling', 'hasGarage', 'hasHeating', 'hasSpa',\n",
            "       'hasView'],\n",
            "      dtype='object')\n"
          ]
        }
      ]
    },
    {
      "cell_type": "code",
      "source": [
        " # We have 958 days of analysis\n",
        " data['latest_saledate'].value_counts().sort_index()"
      ],
      "metadata": {
        "colab": {
          "base_uri": "https://localhost:8080/",
          "height": 489
        },
        "id": "aXTtct6Goimz",
        "outputId": "010733b1-5ef2-4e0b-b76d-8670c5a963ec"
      },
      "execution_count": 12,
      "outputs": [
        {
          "output_type": "execute_result",
          "data": {
            "text/plain": [
              "latest_saledate\n",
              "2018-01-22     4\n",
              "2018-01-23    10\n",
              "2018-01-24     8\n",
              "2018-01-25    11\n",
              "2018-01-26    13\n",
              "              ..\n",
              "2021-01-26     2\n",
              "2021-01-27     2\n",
              "2021-01-28     1\n",
              "2021-01-29     2\n",
              "2021-01-30     1\n",
              "Name: count, Length: 958, dtype: int64"
            ],
            "text/html": [
              "<div>\n",
              "<style scoped>\n",
              "    .dataframe tbody tr th:only-of-type {\n",
              "        vertical-align: middle;\n",
              "    }\n",
              "\n",
              "    .dataframe tbody tr th {\n",
              "        vertical-align: top;\n",
              "    }\n",
              "\n",
              "    .dataframe thead th {\n",
              "        text-align: right;\n",
              "    }\n",
              "</style>\n",
              "<table border=\"1\" class=\"dataframe\">\n",
              "  <thead>\n",
              "    <tr style=\"text-align: right;\">\n",
              "      <th></th>\n",
              "      <th>count</th>\n",
              "    </tr>\n",
              "    <tr>\n",
              "      <th>latest_saledate</th>\n",
              "      <th></th>\n",
              "    </tr>\n",
              "  </thead>\n",
              "  <tbody>\n",
              "    <tr>\n",
              "      <th>2018-01-22</th>\n",
              "      <td>4</td>\n",
              "    </tr>\n",
              "    <tr>\n",
              "      <th>2018-01-23</th>\n",
              "      <td>10</td>\n",
              "    </tr>\n",
              "    <tr>\n",
              "      <th>2018-01-24</th>\n",
              "      <td>8</td>\n",
              "    </tr>\n",
              "    <tr>\n",
              "      <th>2018-01-25</th>\n",
              "      <td>11</td>\n",
              "    </tr>\n",
              "    <tr>\n",
              "      <th>2018-01-26</th>\n",
              "      <td>13</td>\n",
              "    </tr>\n",
              "    <tr>\n",
              "      <th>...</th>\n",
              "      <td>...</td>\n",
              "    </tr>\n",
              "    <tr>\n",
              "      <th>2021-01-26</th>\n",
              "      <td>2</td>\n",
              "    </tr>\n",
              "    <tr>\n",
              "      <th>2021-01-27</th>\n",
              "      <td>2</td>\n",
              "    </tr>\n",
              "    <tr>\n",
              "      <th>2021-01-28</th>\n",
              "      <td>1</td>\n",
              "    </tr>\n",
              "    <tr>\n",
              "      <th>2021-01-29</th>\n",
              "      <td>2</td>\n",
              "    </tr>\n",
              "    <tr>\n",
              "      <th>2021-01-30</th>\n",
              "      <td>1</td>\n",
              "    </tr>\n",
              "  </tbody>\n",
              "</table>\n",
              "<p>958 rows × 1 columns</p>\n",
              "</div><br><label><b>dtype:</b> int64</label>"
            ]
          },
          "metadata": {},
          "execution_count": 12
        }
      ]
    },
    {
      "cell_type": "code",
      "source": [
        "#################### 1 CITY ONLY ###############################\n",
        "df= data[data['city'] == 'austin'].sort_values(by='latest_saledate')\n",
        "df.select_dtypes(include='integer').columns"
      ],
      "metadata": {
        "id": "uJnc8AP6OI9Q",
        "colab": {
          "base_uri": "https://localhost:8080/"
        },
        "outputId": "ab4032c2-73bb-4671-dea7-bb6f90242a59"
      },
      "execution_count": 13,
      "outputs": [
        {
          "output_type": "execute_result",
          "data": {
            "text/plain": [
              "Index(['zpid', 'zipcode', 'garageSpaces', 'parkingSpaces', 'yearBuilt',\n",
              "       'latestPrice', 'numPriceChanges', 'latest_salemonth', 'latest_saleyear',\n",
              "       'numOfPhotos', 'numOfAccessibilityFeatures', 'numOfAppliances',\n",
              "       'numOfParkingFeatures', 'numOfPatioAndPorchFeatures',\n",
              "       'numOfSecurityFeatures', 'numOfWaterfrontFeatures',\n",
              "       'numOfWindowFeatures', 'numOfCommunityFeatures', 'livingAreaSqFt',\n",
              "       'numOfPrimarySchools', 'numOfElementarySchools', 'numOfMiddleSchools',\n",
              "       'numOfHighSchools', 'avgSchoolSize', 'MedianStudentsPerTeacher',\n",
              "       'numOfBedrooms', 'numOfStories'],\n",
              "      dtype='object')"
            ]
          },
          "metadata": {},
          "execution_count": 13
        }
      ]
    },
    {
      "cell_type": "code",
      "source": [
        "data['latest_saledate'].dropna()"
      ],
      "metadata": {
        "colab": {
          "base_uri": "https://localhost:8080/",
          "height": 458
        },
        "id": "BRK0drhVCpRB",
        "outputId": "36419a27-1db7-4708-a516-ebc147dcb369"
      },
      "execution_count": 14,
      "outputs": [
        {
          "output_type": "execute_result",
          "data": {
            "text/plain": [
              "0       2019-09-02\n",
              "1       2020-10-13\n",
              "2       2019-07-31\n",
              "3       2018-08-08\n",
              "4       2018-10-31\n",
              "           ...    \n",
              "15166   2020-12-10\n",
              "15167   2020-12-16\n",
              "15168   2021-01-27\n",
              "15169   2019-08-07\n",
              "15170   2021-01-23\n",
              "Name: latest_saledate, Length: 15171, dtype: datetime64[ns]"
            ],
            "text/html": [
              "<div>\n",
              "<style scoped>\n",
              "    .dataframe tbody tr th:only-of-type {\n",
              "        vertical-align: middle;\n",
              "    }\n",
              "\n",
              "    .dataframe tbody tr th {\n",
              "        vertical-align: top;\n",
              "    }\n",
              "\n",
              "    .dataframe thead th {\n",
              "        text-align: right;\n",
              "    }\n",
              "</style>\n",
              "<table border=\"1\" class=\"dataframe\">\n",
              "  <thead>\n",
              "    <tr style=\"text-align: right;\">\n",
              "      <th></th>\n",
              "      <th>latest_saledate</th>\n",
              "    </tr>\n",
              "  </thead>\n",
              "  <tbody>\n",
              "    <tr>\n",
              "      <th>0</th>\n",
              "      <td>2019-09-02</td>\n",
              "    </tr>\n",
              "    <tr>\n",
              "      <th>1</th>\n",
              "      <td>2020-10-13</td>\n",
              "    </tr>\n",
              "    <tr>\n",
              "      <th>2</th>\n",
              "      <td>2019-07-31</td>\n",
              "    </tr>\n",
              "    <tr>\n",
              "      <th>3</th>\n",
              "      <td>2018-08-08</td>\n",
              "    </tr>\n",
              "    <tr>\n",
              "      <th>4</th>\n",
              "      <td>2018-10-31</td>\n",
              "    </tr>\n",
              "    <tr>\n",
              "      <th>...</th>\n",
              "      <td>...</td>\n",
              "    </tr>\n",
              "    <tr>\n",
              "      <th>15166</th>\n",
              "      <td>2020-12-10</td>\n",
              "    </tr>\n",
              "    <tr>\n",
              "      <th>15167</th>\n",
              "      <td>2020-12-16</td>\n",
              "    </tr>\n",
              "    <tr>\n",
              "      <th>15168</th>\n",
              "      <td>2021-01-27</td>\n",
              "    </tr>\n",
              "    <tr>\n",
              "      <th>15169</th>\n",
              "      <td>2019-08-07</td>\n",
              "    </tr>\n",
              "    <tr>\n",
              "      <th>15170</th>\n",
              "      <td>2021-01-23</td>\n",
              "    </tr>\n",
              "  </tbody>\n",
              "</table>\n",
              "<p>15171 rows × 1 columns</p>\n",
              "</div><br><label><b>dtype:</b> datetime64[ns]</label>"
            ]
          },
          "metadata": {},
          "execution_count": 14
        }
      ]
    },
    {
      "cell_type": "code",
      "source": [
        "object_features = ['city', 'streetAddress', 'description', 'homeType', 'latestPriceSource','homeImage']"
      ],
      "metadata": {
        "id": "dMgIIy3Wn7pk"
      },
      "execution_count": 15,
      "outputs": []
    },
    {
      "cell_type": "code",
      "source": [
        "df.select_dtypes(include='object').columns"
      ],
      "metadata": {
        "colab": {
          "base_uri": "https://localhost:8080/"
        },
        "id": "qit5S_ENgSuE",
        "outputId": "833c6509-7886-4247-85cd-eacf517967c4"
      },
      "execution_count": 16,
      "outputs": [
        {
          "output_type": "execute_result",
          "data": {
            "text/plain": [
              "Index(['city', 'streetAddress', 'description', 'homeType', 'latestPriceSource',\n",
              "       'homeImage'],\n",
              "      dtype='object')"
            ]
          },
          "metadata": {},
          "execution_count": 16
        }
      ]
    },
    {
      "cell_type": "code",
      "source": [
        "################# FINAL DATAFRAME IN USE ################\n",
        "df_1 = df.drop(columns=useless_features, errors='ignore')\n",
        "df_1.shape"
      ],
      "metadata": {
        "colab": {
          "base_uri": "https://localhost:8080/"
        },
        "id": "Nd_BpPrDoXhH",
        "outputId": "8dce4225-c465-46c7-cc50-da9e15b9fb28"
      },
      "execution_count": 17,
      "outputs": [
        {
          "output_type": "execute_result",
          "data": {
            "text/plain": [
              "(15020, 39)"
            ]
          },
          "metadata": {},
          "execution_count": 17
        }
      ]
    },
    {
      "cell_type": "code",
      "source": [
        "# FINAL CHECK BEFORE MERGING\n",
        "df_1.isna().sum()"
      ],
      "metadata": {
        "colab": {
          "base_uri": "https://localhost:8080/",
          "height": 1000
        },
        "id": "6bJeVQpR4Jgv",
        "outputId": "84fa13d5-69db-4130-e555-450ac763b77a"
      },
      "execution_count": 18,
      "outputs": [
        {
          "output_type": "execute_result",
          "data": {
            "text/plain": [
              "latitude                      0\n",
              "longitude                     0\n",
              "propertyTaxRate               0\n",
              "garageSpaces                  0\n",
              "hasAssociation                0\n",
              "hasCooling                    0\n",
              "hasGarage                     0\n",
              "hasHeating                    0\n",
              "hasSpa                        0\n",
              "hasView                       0\n",
              "parkingSpaces                 0\n",
              "yearBuilt                     0\n",
              "latestPrice                   0\n",
              "numPriceChanges               0\n",
              "latest_saledate               0\n",
              "latest_salemonth              0\n",
              "latest_saleyear               0\n",
              "numOfPhotos                   0\n",
              "numOfAccessibilityFeatures    0\n",
              "numOfAppliances               0\n",
              "numOfParkingFeatures          0\n",
              "numOfPatioAndPorchFeatures    0\n",
              "numOfSecurityFeatures         0\n",
              "numOfWaterfrontFeatures       0\n",
              "numOfWindowFeatures           0\n",
              "numOfCommunityFeatures        0\n",
              "lotSizeSqFt                   0\n",
              "livingAreaSqFt                0\n",
              "numOfPrimarySchools           0\n",
              "numOfElementarySchools        0\n",
              "numOfMiddleSchools            0\n",
              "numOfHighSchools              0\n",
              "avgSchoolDistance             0\n",
              "avgSchoolRating               0\n",
              "avgSchoolSize                 0\n",
              "MedianStudentsPerTeacher      0\n",
              "numOfBathrooms                0\n",
              "numOfBedrooms                 0\n",
              "numOfStories                  0\n",
              "dtype: int64"
            ],
            "text/html": [
              "<div>\n",
              "<style scoped>\n",
              "    .dataframe tbody tr th:only-of-type {\n",
              "        vertical-align: middle;\n",
              "    }\n",
              "\n",
              "    .dataframe tbody tr th {\n",
              "        vertical-align: top;\n",
              "    }\n",
              "\n",
              "    .dataframe thead th {\n",
              "        text-align: right;\n",
              "    }\n",
              "</style>\n",
              "<table border=\"1\" class=\"dataframe\">\n",
              "  <thead>\n",
              "    <tr style=\"text-align: right;\">\n",
              "      <th></th>\n",
              "      <th>0</th>\n",
              "    </tr>\n",
              "  </thead>\n",
              "  <tbody>\n",
              "    <tr>\n",
              "      <th>latitude</th>\n",
              "      <td>0</td>\n",
              "    </tr>\n",
              "    <tr>\n",
              "      <th>longitude</th>\n",
              "      <td>0</td>\n",
              "    </tr>\n",
              "    <tr>\n",
              "      <th>propertyTaxRate</th>\n",
              "      <td>0</td>\n",
              "    </tr>\n",
              "    <tr>\n",
              "      <th>garageSpaces</th>\n",
              "      <td>0</td>\n",
              "    </tr>\n",
              "    <tr>\n",
              "      <th>hasAssociation</th>\n",
              "      <td>0</td>\n",
              "    </tr>\n",
              "    <tr>\n",
              "      <th>hasCooling</th>\n",
              "      <td>0</td>\n",
              "    </tr>\n",
              "    <tr>\n",
              "      <th>hasGarage</th>\n",
              "      <td>0</td>\n",
              "    </tr>\n",
              "    <tr>\n",
              "      <th>hasHeating</th>\n",
              "      <td>0</td>\n",
              "    </tr>\n",
              "    <tr>\n",
              "      <th>hasSpa</th>\n",
              "      <td>0</td>\n",
              "    </tr>\n",
              "    <tr>\n",
              "      <th>hasView</th>\n",
              "      <td>0</td>\n",
              "    </tr>\n",
              "    <tr>\n",
              "      <th>parkingSpaces</th>\n",
              "      <td>0</td>\n",
              "    </tr>\n",
              "    <tr>\n",
              "      <th>yearBuilt</th>\n",
              "      <td>0</td>\n",
              "    </tr>\n",
              "    <tr>\n",
              "      <th>latestPrice</th>\n",
              "      <td>0</td>\n",
              "    </tr>\n",
              "    <tr>\n",
              "      <th>numPriceChanges</th>\n",
              "      <td>0</td>\n",
              "    </tr>\n",
              "    <tr>\n",
              "      <th>latest_saledate</th>\n",
              "      <td>0</td>\n",
              "    </tr>\n",
              "    <tr>\n",
              "      <th>latest_salemonth</th>\n",
              "      <td>0</td>\n",
              "    </tr>\n",
              "    <tr>\n",
              "      <th>latest_saleyear</th>\n",
              "      <td>0</td>\n",
              "    </tr>\n",
              "    <tr>\n",
              "      <th>numOfPhotos</th>\n",
              "      <td>0</td>\n",
              "    </tr>\n",
              "    <tr>\n",
              "      <th>numOfAccessibilityFeatures</th>\n",
              "      <td>0</td>\n",
              "    </tr>\n",
              "    <tr>\n",
              "      <th>numOfAppliances</th>\n",
              "      <td>0</td>\n",
              "    </tr>\n",
              "    <tr>\n",
              "      <th>numOfParkingFeatures</th>\n",
              "      <td>0</td>\n",
              "    </tr>\n",
              "    <tr>\n",
              "      <th>numOfPatioAndPorchFeatures</th>\n",
              "      <td>0</td>\n",
              "    </tr>\n",
              "    <tr>\n",
              "      <th>numOfSecurityFeatures</th>\n",
              "      <td>0</td>\n",
              "    </tr>\n",
              "    <tr>\n",
              "      <th>numOfWaterfrontFeatures</th>\n",
              "      <td>0</td>\n",
              "    </tr>\n",
              "    <tr>\n",
              "      <th>numOfWindowFeatures</th>\n",
              "      <td>0</td>\n",
              "    </tr>\n",
              "    <tr>\n",
              "      <th>numOfCommunityFeatures</th>\n",
              "      <td>0</td>\n",
              "    </tr>\n",
              "    <tr>\n",
              "      <th>lotSizeSqFt</th>\n",
              "      <td>0</td>\n",
              "    </tr>\n",
              "    <tr>\n",
              "      <th>livingAreaSqFt</th>\n",
              "      <td>0</td>\n",
              "    </tr>\n",
              "    <tr>\n",
              "      <th>numOfPrimarySchools</th>\n",
              "      <td>0</td>\n",
              "    </tr>\n",
              "    <tr>\n",
              "      <th>numOfElementarySchools</th>\n",
              "      <td>0</td>\n",
              "    </tr>\n",
              "    <tr>\n",
              "      <th>numOfMiddleSchools</th>\n",
              "      <td>0</td>\n",
              "    </tr>\n",
              "    <tr>\n",
              "      <th>numOfHighSchools</th>\n",
              "      <td>0</td>\n",
              "    </tr>\n",
              "    <tr>\n",
              "      <th>avgSchoolDistance</th>\n",
              "      <td>0</td>\n",
              "    </tr>\n",
              "    <tr>\n",
              "      <th>avgSchoolRating</th>\n",
              "      <td>0</td>\n",
              "    </tr>\n",
              "    <tr>\n",
              "      <th>avgSchoolSize</th>\n",
              "      <td>0</td>\n",
              "    </tr>\n",
              "    <tr>\n",
              "      <th>MedianStudentsPerTeacher</th>\n",
              "      <td>0</td>\n",
              "    </tr>\n",
              "    <tr>\n",
              "      <th>numOfBathrooms</th>\n",
              "      <td>0</td>\n",
              "    </tr>\n",
              "    <tr>\n",
              "      <th>numOfBedrooms</th>\n",
              "      <td>0</td>\n",
              "    </tr>\n",
              "    <tr>\n",
              "      <th>numOfStories</th>\n",
              "      <td>0</td>\n",
              "    </tr>\n",
              "  </tbody>\n",
              "</table>\n",
              "</div><br><label><b>dtype:</b> int64</label>"
            ]
          },
          "metadata": {},
          "execution_count": 18
        }
      ]
    },
    {
      "cell_type": "code",
      "source": [
        "# Get Mortgage rate\n",
        "import pandas as pd\n",
        "MTG = pd.read_csv('/content/drive/MyDrive/lions_den_data/MORTGAGE30US.csv')\n",
        "\n",
        "print(MTG.shape)\n",
        "\n",
        "MPPSQ = pd.read_csv('/content/drive/MyDrive/lions_den_data/MEDLISPRIPERSQUFEE12420.csv')\n",
        "print(MPPSQ.dtypes)"
      ],
      "metadata": {
        "colab": {
          "base_uri": "https://localhost:8080/"
        },
        "id": "TdqpxlH26yjt",
        "outputId": "c7461560-b189-4f02-d8df-6a60b4faaa9d"
      },
      "execution_count": 20,
      "outputs": [
        {
          "output_type": "stream",
          "name": "stdout",
          "text": [
            "(160, 2)\n",
            "observation_date           object\n",
            "MEDLISPRIPERSQUFEE12420     int64\n",
            "dtype: object\n"
          ]
        }
      ]
    },
    {
      "cell_type": "code",
      "source": [
        "#Get air_quality\n",
        "import pandas as pd\n",
        "air_2018 = pd.read_csv('/content/ad_viz_plotval_data_2018.csv')\n",
        "air_2019 = pd.read_csv('/content/ad_viz_plotval_data_2019.csv')\n",
        "air_2020 = pd.read_csv('/content/ad_viz_plotval_data_2020.csv')\n",
        "air_2021 = pd.read_csv('/content/ad_viz_plotval_data_2021.csv')\n",
        "AIR = pd.concat([air_2018, air_2019, air_2020, air_2021], axis=0, ignore_index=True)\n",
        "print(AIR.shape)"
      ],
      "metadata": {
        "colab": {
          "base_uri": "https://localhost:8080/"
        },
        "id": "OlKRt9L78imJ",
        "outputId": "31becb79-18b3-4ec2-d771-882a28622ce1"
      },
      "execution_count": 30,
      "outputs": [
        {
          "output_type": "stream",
          "name": "stdout",
          "text": [
            "(467, 21)\n"
          ]
        }
      ]
    },
    {
      "cell_type": "code",
      "source": [
        "# Delete unnecessary columns\n",
        "AIR = AIR.loc[:,['Date','Daily Mean PM10 Concentration', 'Units', 'Daily AQI Value', 'Local Site Name']]\n",
        "print(AIR.head())"
      ],
      "metadata": {
        "colab": {
          "base_uri": "https://localhost:8080/"
        },
        "id": "PncoPF8B84Wi",
        "outputId": "a8f27dcc-850f-42a2-cabb-b7e0bdc13e4a"
      },
      "execution_count": 31,
      "outputs": [
        {
          "output_type": "stream",
          "name": "stdout",
          "text": [
            "         Date  Daily Mean PM10 Concentration     Units  Daily AQI Value  \\\n",
            "0  01/02/2018                             10  ug/m3 SC                9   \n",
            "1  01/08/2018                             24  ug/m3 SC               22   \n",
            "2  01/14/2018                             11  ug/m3 SC               10   \n",
            "3  01/20/2018                              7  ug/m3 SC                6   \n",
            "4  01/26/2018                             20  ug/m3 SC               19   \n",
            "\n",
            "          Local Site Name  \n",
            "0  Austin Audubon Society  \n",
            "1  Austin Audubon Society  \n",
            "2  Austin Audubon Society  \n",
            "3  Austin Audubon Society  \n",
            "4  Austin Audubon Society  \n"
          ]
        }
      ]
    },
    {
      "cell_type": "code",
      "source": [
        "AIR['Date'] = pd.to_datetime(AIR['Date'], format='%m/%d/%Y', errors='coerce')  # Fix air data format\n",
        "print(AIR['Date'])"
      ],
      "metadata": {
        "colab": {
          "base_uri": "https://localhost:8080/"
        },
        "id": "hWdw5ydf8_rr",
        "outputId": "f970593b-1ae8-443c-abb6-37b5d0a69449"
      },
      "execution_count": 32,
      "outputs": [
        {
          "output_type": "stream",
          "name": "stdout",
          "text": [
            "0     2018-01-02\n",
            "1     2018-01-08\n",
            "2     2018-01-14\n",
            "3     2018-01-20\n",
            "4     2018-01-26\n",
            "         ...    \n",
            "462   2021-12-06\n",
            "463   2021-12-12\n",
            "464   2021-12-18\n",
            "465   2021-12-24\n",
            "466   2021-12-30\n",
            "Name: Date, Length: 467, dtype: datetime64[ns]\n"
          ]
        }
      ]
    },
    {
      "cell_type": "code",
      "source": [
        "import pandas as pd\n",
        "\n",
        "# Convert all date columns to datetime format\n",
        "df_2['latest_saledate'] = pd.to_datetime(df_2['latest_saledate'], errors='coerce', format='%m-%d-%Y')\n",
        "AIR['Date'] = pd.to_datetime(AIR['Date'], errors='coerce', format='%m-%d-%Y')\n",
        "\n",
        "# Check for any NaT (missing values) in the date columns\n",
        "print(df_2['latest_saledate'].isna().sum())\n",
        "print(MTG['observation_date'].isna().sum())\n",
        "print(MPPSQ['observation_date'].isna().sum())\n",
        "print(AIR['Date'].isna().sum())"
      ],
      "metadata": {
        "colab": {
          "base_uri": "https://localhost:8080/"
        },
        "id": "2YPHM3Je9DXz",
        "outputId": "c527bfc2-55ac-4558-d4f8-f9f35cb3cc09"
      },
      "execution_count": 33,
      "outputs": [
        {
          "output_type": "stream",
          "name": "stdout",
          "text": [
            "0\n",
            "0\n",
            "0\n",
            "0\n"
          ]
        }
      ]
    },
    {
      "cell_type": "code",
      "source": [
        "############################################################################### Tranforming Mortgage Data #############################################################################################"
      ],
      "metadata": {
        "id": "17HhaZlcp99D"
      },
      "execution_count": null,
      "outputs": []
    },
    {
      "cell_type": "code",
      "source": [
        "################## TREATING DATES ON EXTERNAL MACRO VARIABLES ##################\n",
        "def parse_obs_date(date_str):\n",
        "    d = str(date_str).strip().split()[0]\n",
        "    if \"/\" in d:\n",
        "        return pd.to_datetime(d, format='%d/%m/%Y', errors='raise')\n",
        "    else:\n",
        "        return pd.to_datetime(d, errors='raise')\n",
        "\n",
        "MTG['observation_date'] = MTG['observation_date'].apply(parse_obs_date)\n",
        "MPPSQ['observation_date'] = MPPSQ['observation_date'].apply(parse_obs_date)\n",
        "MTG['MORTGAGE30US'].dtypes"
      ],
      "metadata": {
        "id": "2XcMYaq4A0EJ",
        "colab": {
          "base_uri": "https://localhost:8080/"
        },
        "outputId": "a070ce22-6fae-41d1-b039-428904fed892"
      },
      "execution_count": 21,
      "outputs": [
        {
          "output_type": "execute_result",
          "data": {
            "text/plain": [
              "dtype('float64')"
            ]
          },
          "metadata": {},
          "execution_count": 21
        }
      ]
    },
    {
      "cell_type": "code",
      "source": [
        "print(MTG.isna().sum())\n",
        "print(MPPSQ.isna().sum())"
      ],
      "metadata": {
        "colab": {
          "base_uri": "https://localhost:8080/"
        },
        "id": "njuIR54SJ5n_",
        "outputId": "db6e70db-3f44-4247-ac44-784242f3c261"
      },
      "execution_count": 22,
      "outputs": [
        {
          "output_type": "stream",
          "name": "stdout",
          "text": [
            "observation_date    0\n",
            "MORTGAGE30US        0\n",
            "dtype: int64\n",
            "observation_date           0\n",
            "MEDLISPRIPERSQUFEE12420    0\n",
            "dtype: int64\n"
          ]
        }
      ]
    },
    {
      "cell_type": "code",
      "source": [
        "df_2 = df_1.copy()"
      ],
      "metadata": {
        "id": "cG-aMjYXMawy"
      },
      "execution_count": 23,
      "outputs": []
    },
    {
      "cell_type": "code",
      "source": [
        "##################################.MERGE. ####################################\n",
        "\n",
        "import pandas as pd\n",
        "\n",
        "df_2['latest_saledate'] = pd.to_datetime(df_2['latest_saledate'], errors='coerce')\n",
        "df_2 = df_2.sort_values('latest_saledate')\n",
        "\n",
        "# Read and prepare the MTG rates\n",
        "MTG['observation_date'] = pd.to_datetime(MTG['observation_date'], format='%d/%m/%Y', errors='coerce')\n",
        "MTG = MTG.sort_values('observation_date')\n",
        "\n",
        "# Merge using asof so that each sale date gets the most recent MTG rate available\n",
        "df_2 = pd.merge_asof(df_2, MTG, left_on='latest_saledate', right_on='observation_date', direction='backward')\n",
        "\n",
        "# Optional: Remove the duplicate 'date' column if no longer need it\n",
        "df_2.drop(columns=['observation_date'], inplace=True)\n",
        "df_2.columns"
      ],
      "metadata": {
        "colab": {
          "base_uri": "https://localhost:8080/"
        },
        "id": "0u2Rcs2KKgkZ",
        "outputId": "4cb4b740-0e83-4714-c819-201dbbcf9b54"
      },
      "execution_count": 24,
      "outputs": [
        {
          "output_type": "execute_result",
          "data": {
            "text/plain": [
              "Index(['latitude', 'longitude', 'propertyTaxRate', 'garageSpaces',\n",
              "       'hasAssociation', 'hasCooling', 'hasGarage', 'hasHeating', 'hasSpa',\n",
              "       'hasView', 'parkingSpaces', 'yearBuilt', 'latestPrice',\n",
              "       'numPriceChanges', 'latest_saledate', 'latest_salemonth',\n",
              "       'latest_saleyear', 'numOfPhotos', 'numOfAccessibilityFeatures',\n",
              "       'numOfAppliances', 'numOfParkingFeatures', 'numOfPatioAndPorchFeatures',\n",
              "       'numOfSecurityFeatures', 'numOfWaterfrontFeatures',\n",
              "       'numOfWindowFeatures', 'numOfCommunityFeatures', 'lotSizeSqFt',\n",
              "       'livingAreaSqFt', 'numOfPrimarySchools', 'numOfElementarySchools',\n",
              "       'numOfMiddleSchools', 'numOfHighSchools', 'avgSchoolDistance',\n",
              "       'avgSchoolRating', 'avgSchoolSize', 'MedianStudentsPerTeacher',\n",
              "       'numOfBathrooms', 'numOfBedrooms', 'numOfStories', 'MORTGAGE30US'],\n",
              "      dtype='object')"
            ]
          },
          "metadata": {},
          "execution_count": 24
        }
      ]
    },
    {
      "cell_type": "code",
      "source": [
        "# read variable, sort variable on date\n",
        "MPPSQ['observation_date'] = pd.to_datetime(MPPSQ['observation_date'], format='%d/%m/%Y', errors='coerce')\n",
        "MPPSQ = MPPSQ.sort_values('observation_date')\n",
        "\n",
        "# Merge using asof so that each sale date gets the most recent MPPSQ available\n",
        "df_2 = pd.merge_asof(df_2, MPPSQ, left_on='latest_saledate', right_on='observation_date', direction='backward')\n",
        "\n",
        "# Optional: Remove the duplicate 'date' column if you no longer need it\n",
        "df_2.drop(columns=['observation_date'], inplace=True)\n",
        "df_2.columns"
      ],
      "metadata": {
        "colab": {
          "base_uri": "https://localhost:8080/"
        },
        "id": "0gWhZTdgOkB3",
        "outputId": "5468e207-b68c-4f17-fa90-6f5ec9e7673b"
      },
      "execution_count": 25,
      "outputs": [
        {
          "output_type": "execute_result",
          "data": {
            "text/plain": [
              "Index(['latitude', 'longitude', 'propertyTaxRate', 'garageSpaces',\n",
              "       'hasAssociation', 'hasCooling', 'hasGarage', 'hasHeating', 'hasSpa',\n",
              "       'hasView', 'parkingSpaces', 'yearBuilt', 'latestPrice',\n",
              "       'numPriceChanges', 'latest_saledate', 'latest_salemonth',\n",
              "       'latest_saleyear', 'numOfPhotos', 'numOfAccessibilityFeatures',\n",
              "       'numOfAppliances', 'numOfParkingFeatures', 'numOfPatioAndPorchFeatures',\n",
              "       'numOfSecurityFeatures', 'numOfWaterfrontFeatures',\n",
              "       'numOfWindowFeatures', 'numOfCommunityFeatures', 'lotSizeSqFt',\n",
              "       'livingAreaSqFt', 'numOfPrimarySchools', 'numOfElementarySchools',\n",
              "       'numOfMiddleSchools', 'numOfHighSchools', 'avgSchoolDistance',\n",
              "       'avgSchoolRating', 'avgSchoolSize', 'MedianStudentsPerTeacher',\n",
              "       'numOfBathrooms', 'numOfBedrooms', 'numOfStories', 'MORTGAGE30US',\n",
              "       'MEDLISPRIPERSQUFEE12420'],\n",
              "      dtype='object')"
            ]
          },
          "metadata": {},
          "execution_count": 25
        }
      ]
    },
    {
      "cell_type": "code",
      "source": [
        "# Read and prepare the AIR for df_2\n",
        "AIR['Date'] = pd.to_datetime(AIR['Date'], format='%d/%m/%Y', errors='coerce')\n",
        "AIR = AIR.sort_values('Date')\n",
        "\n",
        "# Merge using asof so that each sale date gets the most recent MPPSQ available\n",
        "df_2 = pd.merge_asof(df_2, AIR, left_on='latest_saledate', right_on='Date', direction='backward')\n",
        "\n",
        "# Optional: Remove the duplicate 'date' column if you no longer need it\n",
        "df_2.drop(columns=['Date'], inplace=True)\n",
        "df_2.columns"
      ],
      "metadata": {
        "colab": {
          "base_uri": "https://localhost:8080/"
        },
        "id": "S-WHUQuN9QEk",
        "outputId": "0b55eb0e-c48c-4067-980e-27af49583160"
      },
      "execution_count": 34,
      "outputs": [
        {
          "output_type": "execute_result",
          "data": {
            "text/plain": [
              "Index(['latitude', 'longitude', 'propertyTaxRate', 'garageSpaces',\n",
              "       'hasAssociation', 'hasCooling', 'hasGarage', 'hasHeating', 'hasSpa',\n",
              "       'hasView', 'parkingSpaces', 'yearBuilt', 'latestPrice',\n",
              "       'numPriceChanges', 'latest_saledate', 'latest_salemonth',\n",
              "       'latest_saleyear', 'numOfPhotos', 'numOfAccessibilityFeatures',\n",
              "       'numOfAppliances', 'numOfParkingFeatures', 'numOfPatioAndPorchFeatures',\n",
              "       'numOfSecurityFeatures', 'numOfWaterfrontFeatures',\n",
              "       'numOfWindowFeatures', 'numOfCommunityFeatures', 'lotSizeSqFt',\n",
              "       'livingAreaSqFt', 'numOfPrimarySchools', 'numOfElementarySchools',\n",
              "       'numOfMiddleSchools', 'numOfHighSchools', 'avgSchoolDistance',\n",
              "       'avgSchoolRating', 'avgSchoolSize', 'MedianStudentsPerTeacher',\n",
              "       'numOfBathrooms', 'numOfBedrooms', 'numOfStories', 'MORTGAGE30US',\n",
              "       'MEDLISPRIPERSQUFEE12420', 'Daily Mean PM10 Concentration', 'Units',\n",
              "       'Daily AQI Value', 'Local Site Name'],\n",
              "      dtype='object')"
            ]
          },
          "metadata": {},
          "execution_count": 34
        }
      ]
    },
    {
      "cell_type": "code",
      "source": [
        "df_2[['latest_saledate','MORTGAGE30US','MEDLISPRIPERSQUFEE12420', 'Daily AQI Value']]"
      ],
      "metadata": {
        "colab": {
          "base_uri": "https://localhost:8080/",
          "height": 423
        },
        "id": "qQ3sDi4uNTeB",
        "outputId": "73e733f9-8f9f-4e8a-f83c-4383ae6bd74a"
      },
      "execution_count": 35,
      "outputs": [
        {
          "output_type": "execute_result",
          "data": {
            "text/plain": [
              "      latest_saledate  MORTGAGE30US  MEDLISPRIPERSQUFEE12420  Daily AQI Value\n",
              "0          2018-01-22          4.04                      163               14\n",
              "1          2018-01-22          4.04                      163               14\n",
              "2          2018-01-22          4.04                      163               14\n",
              "3          2018-01-22          4.04                      163               14\n",
              "4          2018-01-23          4.04                      163               14\n",
              "...               ...           ...                      ...              ...\n",
              "15015      2021-01-27          2.77                      226               14\n",
              "15016      2021-01-28          2.73                      226               14\n",
              "15017      2021-01-29          2.73                      226               14\n",
              "15018      2021-01-29          2.73                      226               14\n",
              "15019      2021-01-30          2.73                      226               14\n",
              "\n",
              "[15020 rows x 4 columns]"
            ],
            "text/html": [
              "\n",
              "  <div id=\"df-e829a60e-29fd-402b-b99f-9314a72ca092\" class=\"colab-df-container\">\n",
              "    <div>\n",
              "<style scoped>\n",
              "    .dataframe tbody tr th:only-of-type {\n",
              "        vertical-align: middle;\n",
              "    }\n",
              "\n",
              "    .dataframe tbody tr th {\n",
              "        vertical-align: top;\n",
              "    }\n",
              "\n",
              "    .dataframe thead th {\n",
              "        text-align: right;\n",
              "    }\n",
              "</style>\n",
              "<table border=\"1\" class=\"dataframe\">\n",
              "  <thead>\n",
              "    <tr style=\"text-align: right;\">\n",
              "      <th></th>\n",
              "      <th>latest_saledate</th>\n",
              "      <th>MORTGAGE30US</th>\n",
              "      <th>MEDLISPRIPERSQUFEE12420</th>\n",
              "      <th>Daily AQI Value</th>\n",
              "    </tr>\n",
              "  </thead>\n",
              "  <tbody>\n",
              "    <tr>\n",
              "      <th>0</th>\n",
              "      <td>2018-01-22</td>\n",
              "      <td>4.04</td>\n",
              "      <td>163</td>\n",
              "      <td>14</td>\n",
              "    </tr>\n",
              "    <tr>\n",
              "      <th>1</th>\n",
              "      <td>2018-01-22</td>\n",
              "      <td>4.04</td>\n",
              "      <td>163</td>\n",
              "      <td>14</td>\n",
              "    </tr>\n",
              "    <tr>\n",
              "      <th>2</th>\n",
              "      <td>2018-01-22</td>\n",
              "      <td>4.04</td>\n",
              "      <td>163</td>\n",
              "      <td>14</td>\n",
              "    </tr>\n",
              "    <tr>\n",
              "      <th>3</th>\n",
              "      <td>2018-01-22</td>\n",
              "      <td>4.04</td>\n",
              "      <td>163</td>\n",
              "      <td>14</td>\n",
              "    </tr>\n",
              "    <tr>\n",
              "      <th>4</th>\n",
              "      <td>2018-01-23</td>\n",
              "      <td>4.04</td>\n",
              "      <td>163</td>\n",
              "      <td>14</td>\n",
              "    </tr>\n",
              "    <tr>\n",
              "      <th>...</th>\n",
              "      <td>...</td>\n",
              "      <td>...</td>\n",
              "      <td>...</td>\n",
              "      <td>...</td>\n",
              "    </tr>\n",
              "    <tr>\n",
              "      <th>15015</th>\n",
              "      <td>2021-01-27</td>\n",
              "      <td>2.77</td>\n",
              "      <td>226</td>\n",
              "      <td>14</td>\n",
              "    </tr>\n",
              "    <tr>\n",
              "      <th>15016</th>\n",
              "      <td>2021-01-28</td>\n",
              "      <td>2.73</td>\n",
              "      <td>226</td>\n",
              "      <td>14</td>\n",
              "    </tr>\n",
              "    <tr>\n",
              "      <th>15017</th>\n",
              "      <td>2021-01-29</td>\n",
              "      <td>2.73</td>\n",
              "      <td>226</td>\n",
              "      <td>14</td>\n",
              "    </tr>\n",
              "    <tr>\n",
              "      <th>15018</th>\n",
              "      <td>2021-01-29</td>\n",
              "      <td>2.73</td>\n",
              "      <td>226</td>\n",
              "      <td>14</td>\n",
              "    </tr>\n",
              "    <tr>\n",
              "      <th>15019</th>\n",
              "      <td>2021-01-30</td>\n",
              "      <td>2.73</td>\n",
              "      <td>226</td>\n",
              "      <td>14</td>\n",
              "    </tr>\n",
              "  </tbody>\n",
              "</table>\n",
              "<p>15020 rows × 4 columns</p>\n",
              "</div>\n",
              "    <div class=\"colab-df-buttons\">\n",
              "\n",
              "  <div class=\"colab-df-container\">\n",
              "    <button class=\"colab-df-convert\" onclick=\"convertToInteractive('df-e829a60e-29fd-402b-b99f-9314a72ca092')\"\n",
              "            title=\"Convert this dataframe to an interactive table.\"\n",
              "            style=\"display:none;\">\n",
              "\n",
              "  <svg xmlns=\"http://www.w3.org/2000/svg\" height=\"24px\" viewBox=\"0 -960 960 960\">\n",
              "    <path d=\"M120-120v-720h720v720H120Zm60-500h600v-160H180v160Zm220 220h160v-160H400v160Zm0 220h160v-160H400v160ZM180-400h160v-160H180v160Zm440 0h160v-160H620v160ZM180-180h160v-160H180v160Zm440 0h160v-160H620v160Z\"/>\n",
              "  </svg>\n",
              "    </button>\n",
              "\n",
              "  <style>\n",
              "    .colab-df-container {\n",
              "      display:flex;\n",
              "      gap: 12px;\n",
              "    }\n",
              "\n",
              "    .colab-df-convert {\n",
              "      background-color: #E8F0FE;\n",
              "      border: none;\n",
              "      border-radius: 50%;\n",
              "      cursor: pointer;\n",
              "      display: none;\n",
              "      fill: #1967D2;\n",
              "      height: 32px;\n",
              "      padding: 0 0 0 0;\n",
              "      width: 32px;\n",
              "    }\n",
              "\n",
              "    .colab-df-convert:hover {\n",
              "      background-color: #E2EBFA;\n",
              "      box-shadow: 0px 1px 2px rgba(60, 64, 67, 0.3), 0px 1px 3px 1px rgba(60, 64, 67, 0.15);\n",
              "      fill: #174EA6;\n",
              "    }\n",
              "\n",
              "    .colab-df-buttons div {\n",
              "      margin-bottom: 4px;\n",
              "    }\n",
              "\n",
              "    [theme=dark] .colab-df-convert {\n",
              "      background-color: #3B4455;\n",
              "      fill: #D2E3FC;\n",
              "    }\n",
              "\n",
              "    [theme=dark] .colab-df-convert:hover {\n",
              "      background-color: #434B5C;\n",
              "      box-shadow: 0px 1px 3px 1px rgba(0, 0, 0, 0.15);\n",
              "      filter: drop-shadow(0px 1px 2px rgba(0, 0, 0, 0.3));\n",
              "      fill: #FFFFFF;\n",
              "    }\n",
              "  </style>\n",
              "\n",
              "    <script>\n",
              "      const buttonEl =\n",
              "        document.querySelector('#df-e829a60e-29fd-402b-b99f-9314a72ca092 button.colab-df-convert');\n",
              "      buttonEl.style.display =\n",
              "        google.colab.kernel.accessAllowed ? 'block' : 'none';\n",
              "\n",
              "      async function convertToInteractive(key) {\n",
              "        const element = document.querySelector('#df-e829a60e-29fd-402b-b99f-9314a72ca092');\n",
              "        const dataTable =\n",
              "          await google.colab.kernel.invokeFunction('convertToInteractive',\n",
              "                                                    [key], {});\n",
              "        if (!dataTable) return;\n",
              "\n",
              "        const docLinkHtml = 'Like what you see? Visit the ' +\n",
              "          '<a target=\"_blank\" href=https://colab.research.google.com/notebooks/data_table.ipynb>data table notebook</a>'\n",
              "          + ' to learn more about interactive tables.';\n",
              "        element.innerHTML = '';\n",
              "        dataTable['output_type'] = 'display_data';\n",
              "        await google.colab.output.renderOutput(dataTable, element);\n",
              "        const docLink = document.createElement('div');\n",
              "        docLink.innerHTML = docLinkHtml;\n",
              "        element.appendChild(docLink);\n",
              "      }\n",
              "    </script>\n",
              "  </div>\n",
              "\n",
              "\n",
              "<div id=\"df-6b072782-f463-40ab-899b-733530d7a515\">\n",
              "  <button class=\"colab-df-quickchart\" onclick=\"quickchart('df-6b072782-f463-40ab-899b-733530d7a515')\"\n",
              "            title=\"Suggest charts\"\n",
              "            style=\"display:none;\">\n",
              "\n",
              "<svg xmlns=\"http://www.w3.org/2000/svg\" height=\"24px\"viewBox=\"0 0 24 24\"\n",
              "     width=\"24px\">\n",
              "    <g>\n",
              "        <path d=\"M19 3H5c-1.1 0-2 .9-2 2v14c0 1.1.9 2 2 2h14c1.1 0 2-.9 2-2V5c0-1.1-.9-2-2-2zM9 17H7v-7h2v7zm4 0h-2V7h2v10zm4 0h-2v-4h2v4z\"/>\n",
              "    </g>\n",
              "</svg>\n",
              "  </button>\n",
              "\n",
              "<style>\n",
              "  .colab-df-quickchart {\n",
              "      --bg-color: #E8F0FE;\n",
              "      --fill-color: #1967D2;\n",
              "      --hover-bg-color: #E2EBFA;\n",
              "      --hover-fill-color: #174EA6;\n",
              "      --disabled-fill-color: #AAA;\n",
              "      --disabled-bg-color: #DDD;\n",
              "  }\n",
              "\n",
              "  [theme=dark] .colab-df-quickchart {\n",
              "      --bg-color: #3B4455;\n",
              "      --fill-color: #D2E3FC;\n",
              "      --hover-bg-color: #434B5C;\n",
              "      --hover-fill-color: #FFFFFF;\n",
              "      --disabled-bg-color: #3B4455;\n",
              "      --disabled-fill-color: #666;\n",
              "  }\n",
              "\n",
              "  .colab-df-quickchart {\n",
              "    background-color: var(--bg-color);\n",
              "    border: none;\n",
              "    border-radius: 50%;\n",
              "    cursor: pointer;\n",
              "    display: none;\n",
              "    fill: var(--fill-color);\n",
              "    height: 32px;\n",
              "    padding: 0;\n",
              "    width: 32px;\n",
              "  }\n",
              "\n",
              "  .colab-df-quickchart:hover {\n",
              "    background-color: var(--hover-bg-color);\n",
              "    box-shadow: 0 1px 2px rgba(60, 64, 67, 0.3), 0 1px 3px 1px rgba(60, 64, 67, 0.15);\n",
              "    fill: var(--button-hover-fill-color);\n",
              "  }\n",
              "\n",
              "  .colab-df-quickchart-complete:disabled,\n",
              "  .colab-df-quickchart-complete:disabled:hover {\n",
              "    background-color: var(--disabled-bg-color);\n",
              "    fill: var(--disabled-fill-color);\n",
              "    box-shadow: none;\n",
              "  }\n",
              "\n",
              "  .colab-df-spinner {\n",
              "    border: 2px solid var(--fill-color);\n",
              "    border-color: transparent;\n",
              "    border-bottom-color: var(--fill-color);\n",
              "    animation:\n",
              "      spin 1s steps(1) infinite;\n",
              "  }\n",
              "\n",
              "  @keyframes spin {\n",
              "    0% {\n",
              "      border-color: transparent;\n",
              "      border-bottom-color: var(--fill-color);\n",
              "      border-left-color: var(--fill-color);\n",
              "    }\n",
              "    20% {\n",
              "      border-color: transparent;\n",
              "      border-left-color: var(--fill-color);\n",
              "      border-top-color: var(--fill-color);\n",
              "    }\n",
              "    30% {\n",
              "      border-color: transparent;\n",
              "      border-left-color: var(--fill-color);\n",
              "      border-top-color: var(--fill-color);\n",
              "      border-right-color: var(--fill-color);\n",
              "    }\n",
              "    40% {\n",
              "      border-color: transparent;\n",
              "      border-right-color: var(--fill-color);\n",
              "      border-top-color: var(--fill-color);\n",
              "    }\n",
              "    60% {\n",
              "      border-color: transparent;\n",
              "      border-right-color: var(--fill-color);\n",
              "    }\n",
              "    80% {\n",
              "      border-color: transparent;\n",
              "      border-right-color: var(--fill-color);\n",
              "      border-bottom-color: var(--fill-color);\n",
              "    }\n",
              "    90% {\n",
              "      border-color: transparent;\n",
              "      border-bottom-color: var(--fill-color);\n",
              "    }\n",
              "  }\n",
              "</style>\n",
              "\n",
              "  <script>\n",
              "    async function quickchart(key) {\n",
              "      const quickchartButtonEl =\n",
              "        document.querySelector('#' + key + ' button');\n",
              "      quickchartButtonEl.disabled = true;  // To prevent multiple clicks.\n",
              "      quickchartButtonEl.classList.add('colab-df-spinner');\n",
              "      try {\n",
              "        const charts = await google.colab.kernel.invokeFunction(\n",
              "            'suggestCharts', [key], {});\n",
              "      } catch (error) {\n",
              "        console.error('Error during call to suggestCharts:', error);\n",
              "      }\n",
              "      quickchartButtonEl.classList.remove('colab-df-spinner');\n",
              "      quickchartButtonEl.classList.add('colab-df-quickchart-complete');\n",
              "    }\n",
              "    (() => {\n",
              "      let quickchartButtonEl =\n",
              "        document.querySelector('#df-6b072782-f463-40ab-899b-733530d7a515 button');\n",
              "      quickchartButtonEl.style.display =\n",
              "        google.colab.kernel.accessAllowed ? 'block' : 'none';\n",
              "    })();\n",
              "  </script>\n",
              "</div>\n",
              "\n",
              "    </div>\n",
              "  </div>\n"
            ],
            "application/vnd.google.colaboratory.intrinsic+json": {
              "type": "dataframe",
              "summary": "{\n  \"name\": \"df_2[['latest_saledate','MORTGAGE30US','MEDLISPRIPERSQUFEE12420', 'Daily AQI Value']]\",\n  \"rows\": 15020,\n  \"fields\": [\n    {\n      \"column\": \"latest_saledate\",\n      \"properties\": {\n        \"dtype\": \"date\",\n        \"min\": \"2018-01-22 00:00:00\",\n        \"max\": \"2021-01-30 00:00:00\",\n        \"num_unique_values\": 956,\n        \"samples\": [\n          \"2019-02-12 00:00:00\",\n          \"2020-10-22 00:00:00\",\n          \"2019-09-17 00:00:00\"\n        ],\n        \"semantic_type\": \"\",\n        \"description\": \"\"\n      }\n    },\n    {\n      \"column\": \"MORTGAGE30US\",\n      \"properties\": {\n        \"dtype\": \"number\",\n        \"std\": 0.659711712773085,\n        \"min\": 2.65,\n        \"max\": 4.94,\n        \"num_unique_values\": 109,\n        \"samples\": [\n          3.26,\n          4.42,\n          4.38\n        ],\n        \"semantic_type\": \"\",\n        \"description\": \"\"\n      }\n    },\n    {\n      \"column\": \"MEDLISPRIPERSQUFEE12420\",\n      \"properties\": {\n        \"dtype\": \"number\",\n        \"std\": 16,\n        \"min\": 163,\n        \"max\": 226,\n        \"num_unique_values\": 17,\n        \"samples\": [\n          163,\n          164,\n          168\n        ],\n        \"semantic_type\": \"\",\n        \"description\": \"\"\n      }\n    },\n    {\n      \"column\": \"Daily AQI Value\",\n      \"properties\": {\n        \"dtype\": \"number\",\n        \"std\": 11,\n        \"min\": 2,\n        \"max\": 72,\n        \"num_unique_values\": 41,\n        \"samples\": [\n          16,\n          22,\n          24\n        ],\n        \"semantic_type\": \"\",\n        \"description\": \"\"\n      }\n    }\n  ]\n}"
            }
          },
          "metadata": {},
          "execution_count": 35
        }
      ]
    },
    {
      "cell_type": "code",
      "source": [
        "from google.colab import drive\n",
        "drive.mount('/content/drive')\n"
      ],
      "metadata": {
        "colab": {
          "base_uri": "https://localhost:8080/"
        },
        "id": "smG96aWZM5JM",
        "outputId": "a428901a-0d9b-4b19-92a8-dbc96fb977a3"
      },
      "execution_count": 36,
      "outputs": [
        {
          "output_type": "stream",
          "name": "stdout",
          "text": [
            "Drive already mounted at /content/drive; to attempt to forcibly remount, call drive.mount(\"/content/drive\", force_remount=True).\n"
          ]
        }
      ]
    },
    {
      "cell_type": "code",
      "source": [
        "df_2.to_pickle(\"/content/drive/MyDrive/lions_den_data/df_2.pkl\")"
      ],
      "metadata": {
        "id": "b9X3Ilk7LD1Q"
      },
      "execution_count": 37,
      "outputs": []
    },
    {
      "cell_type": "code",
      "source": [
        "## run -> on next script -> df_2 = pd.read_pickle('/content/drive/MyDrive/lions_den_data/df_2.pkl')\n"
      ],
      "metadata": {
        "id": "Z2jTHOcYNna8"
      },
      "execution_count": null,
      "outputs": []
    }
  ],
  "metadata": {
    "colab": {
      "provenance": [],
      "gpuType": "T4",
      "include_colab_link": true
    },
    "kernelspec": {
      "display_name": "Python 3",
      "name": "python3"
    },
    "language_info": {
      "name": "python"
    }
  },
  "nbformat": 4,
  "nbformat_minor": 0
}